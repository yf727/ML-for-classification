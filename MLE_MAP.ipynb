{
 "cells": [
  {
   "cell_type": "markdown",
   "metadata": {},
   "source": [
    "# Bayesian Classification\n",
    "\n",
    "*Youfei Zhang*\n",
    "\n",
    "This notebook contains implementation of **Maximum Likelihood Estimator (MLE)** and **Maximum A Posterior (MAP)** classifiers. Those two classifiers are used to to label online shoppers based on their purchase history. \n",
    "\n",
    "### Dataset\n",
    "\n",
    "The dataset is given in matlab format. For each matrix, each row is one example data point. \n",
    "\n",
    "The 1st column represents the class label of each shopper, those class labels are: \n",
    "* minor - 1\n",
    "* young adult/teen - 2\n",
    "* middle-aged adult - 3\n",
    "* senior citizen - 4\n",
    "\n",
    "The 2nd column represents a single feaure 'amountAlcohol\", which represent the number of time the shopper has ordered alcohol in the past month. \n"
   ]
  },
  {
   "cell_type": "code",
   "execution_count": 1,
   "metadata": {},
   "outputs": [
    {
     "data": {
      "text/plain": [
       "array([[ 3, 10],\n",
       "       [ 4, 12],\n",
       "       [ 4, 13],\n",
       "       ...,\n",
       "       [ 3,  9],\n",
       "       [ 3, 12],\n",
       "       [ 1,  7]], dtype=uint8)"
      ]
     },
     "execution_count": 1,
     "metadata": {},
     "output_type": "execute_result"
    }
   ],
   "source": [
    "import scipy.io\n",
    "varIn = scipy.io.loadmat('hw1data.mat')\n",
    "trainData = varIn['trainData']\n",
    "testData = varIn['testData']\n",
    "trainData"
   ]
  },
  {
   "cell_type": "code",
   "execution_count": 2,
   "metadata": {},
   "outputs": [
    {
     "data": {
      "text/html": [
       "<div>\n",
       "<style scoped>\n",
       "    .dataframe tbody tr th:only-of-type {\n",
       "        vertical-align: middle;\n",
       "    }\n",
       "\n",
       "    .dataframe tbody tr th {\n",
       "        vertical-align: top;\n",
       "    }\n",
       "\n",
       "    .dataframe thead th {\n",
       "        text-align: right;\n",
       "    }\n",
       "</style>\n",
       "<table border=\"1\" class=\"dataframe\">\n",
       "  <thead>\n",
       "    <tr style=\"text-align: right;\">\n",
       "      <th></th>\n",
       "      <th>label</th>\n",
       "      <th>amountAlcohol</th>\n",
       "    </tr>\n",
       "  </thead>\n",
       "  <tbody>\n",
       "    <tr>\n",
       "      <th>0</th>\n",
       "      <td>3</td>\n",
       "      <td>10</td>\n",
       "    </tr>\n",
       "    <tr>\n",
       "      <th>1</th>\n",
       "      <td>4</td>\n",
       "      <td>12</td>\n",
       "    </tr>\n",
       "    <tr>\n",
       "      <th>2</th>\n",
       "      <td>4</td>\n",
       "      <td>13</td>\n",
       "    </tr>\n",
       "    <tr>\n",
       "      <th>3</th>\n",
       "      <td>2</td>\n",
       "      <td>9</td>\n",
       "    </tr>\n",
       "    <tr>\n",
       "      <th>4</th>\n",
       "      <td>1</td>\n",
       "      <td>3</td>\n",
       "    </tr>\n",
       "  </tbody>\n",
       "</table>\n",
       "</div>"
      ],
      "text/plain": [
       "   label  amountAlcohol\n",
       "0      3             10\n",
       "1      4             12\n",
       "2      4             13\n",
       "3      2              9\n",
       "4      1              3"
      ]
     },
     "execution_count": 2,
     "metadata": {},
     "output_type": "execute_result"
    }
   ],
   "source": [
    "import pandas as pd \n",
    "train = pd.DataFrame(trainData).rename(index=str, columns={0:\"label\", 1:\"amountAlcohol\"})\n",
    "train.head()"
   ]
  },
  {
   "cell_type": "markdown",
   "metadata": {},
   "source": [
    "**Assume a standard deviation of $\\sigma$ = 2** <br>\n",
    "The mean $\\mu$ is the average amount of alcohol for each class (shopper) <br>\n",
    "\n",
    "1) check if the likelihood is Gaussian <br>\n",
    "2) Learn the parameters to best describe our likelihood function for each class <br>"
   ]
  },
  {
   "cell_type": "code",
   "execution_count": 4,
   "metadata": {
    "collapsed": true
   },
   "outputs": [],
   "source": [
    "label1 = train.loc[train['label'] == 1]\n",
    "label2 = train.loc[train['label'] == 2]\n",
    "label3 = train.loc[train['label'] == 3]\n",
    "label4 = train.loc[train['label'] == 4]"
   ]
  },
  {
   "cell_type": "code",
   "execution_count": 5,
   "metadata": {},
   "outputs": [
    {
     "data": {
      "text/plain": [
       "<function matplotlib.pyplot.show>"
      ]
     },
     "execution_count": 5,
     "metadata": {},
     "output_type": "execute_result"
    },
    {
     "data": {
      "image/png": "[encoded data removed]",
      "text/plain": [
       "<Figure size 432x288 with 1 Axes>"
      ]
     },
     "metadata": {},
     "output_type": "display_data"
    }
   ],
   "source": [
    "# plot for class 1 \n",
    "\n",
    "%matplotlib inline  \n",
    "import matplotlib.pyplot as plt\n",
    "\n",
    "#the colormap\n",
    "cm = plt.cm.get_cmap('RdYlBu_r')\n",
    "\n",
    "# plot histogram \n",
    "n, bins, patches = plt.hist(label1.iloc[:,1])\n",
    "bin_centers = 0.5 * (bins[:-1] + bins[1:])\n",
    "\n",
    "\"\"\"\n",
    "n: the values of the histogram bins, array or list of arrays\n",
    "bins: the edges of the bin, length nbins + 1\n",
    "patches: list of list of lists\n",
    "\n",
    "\"\"\"\n",
    "# scale values to interval [0,1]\n",
    "col = bin_centers - min(bin_centers)\n",
    "col /= max(col)\n",
    "\n",
    "# iterate over the list of patches to set the color \n",
    "for c, p in zip(col, patches):\n",
    "    plt.setp(p, 'facecolor', cm(c))\n",
    "    \n",
    "plt.show"
   ]
  },
  {
   "cell_type": "code",
   "execution_count": 6,
   "metadata": {},
   "outputs": [
    {
     "data": {
      "text/plain": [
       "<function matplotlib.pyplot.show>"
      ]
     },
     "execution_count": 6,
     "metadata": {},
     "output_type": "execute_result"
    },
    {
     "data": {
      "image/png": "[encoded data removed]",
      "text/plain": [
       "<Figure size 432x288 with 1 Axes>"
      ]
     },
     "metadata": {},
     "output_type": "display_data"
    }
   ],
   "source": [
    "# plot for class 2\n",
    "\n",
    "%matplotlib inline  \n",
    "import matplotlib.pyplot as plt\n",
    "\n",
    "#the colormap\n",
    "cm = plt.cm.get_cmap('RdYlBu_r')\n",
    "\n",
    "# plot histogram \n",
    "n, bins, patches = plt.hist(label2.iloc[:,1])\n",
    "bin_centers = 0.5 * (bins[:-1] + bins[1:])\n",
    "\n",
    "\"\"\"\n",
    "n: the values of the histogram bins, array or list of arrays\n",
    "bins: the edges of the bin, length nbins + 1\n",
    "patches: list of list of lists\n",
    "\n",
    "\"\"\"\n",
    "# scale values to interval [0,1]\n",
    "col = bin_centers - min(bin_centers)\n",
    "col /= max(col)\n",
    "\n",
    "# iterate over the list of patches to set the color \n",
    "for c, p in zip(col, patches):\n",
    "    plt.setp(p, 'facecolor', cm(c))\n",
    "    \n",
    "plt.show"
   ]
  },
  {
   "cell_type": "code",
   "execution_count": 7,
   "metadata": {},
   "outputs": [
    {
     "data": {
      "text/plain": [
       "<function matplotlib.pyplot.show>"
      ]
     },
     "execution_count": 7,
     "metadata": {},
     "output_type": "execute_result"
    },
    {
     "data": {
      "image/png": "[encoded data removed]",
      "text/plain": [
       "<Figure size 432x288 with 1 Axes>"
      ]
     },
     "metadata": {},
     "output_type": "display_data"
    }
   ],
   "source": [
    "# plot for class 3\n",
    "\n",
    "%matplotlib inline  \n",
    "import matplotlib.pyplot as plt\n",
    "\n",
    "#the colormap\n",
    "cm = plt.cm.get_cmap('RdYlBu_r')\n",
    "\n",
    "# plot histogram \n",
    "n, bins, patches = plt.hist(label3.iloc[:,1])\n",
    "bin_centers = 0.5 * (bins[:-1] + bins[1:])\n",
    "\n",
    "\"\"\"\n",
    "n: the values of the histogram bins, array or list of arrays\n",
    "bins: the edges of the bin, length nbins + 1\n",
    "patches: list of list of lists\n",
    "\n",
    "\"\"\"\n",
    "# scale values to interval [0,1]\n",
    "col = bin_centers - min(bin_centers)\n",
    "col /= max(col)\n",
    "\n",
    "# iterate over the list of patches to set the color \n",
    "for c, p in zip(col, patches):\n",
    "    plt.setp(p, 'facecolor', cm(c))\n",
    "    \n",
    "plt.show"
   ]
  },
  {
   "cell_type": "code",
   "execution_count": 8,
   "metadata": {},
   "outputs": [
    {
     "data": {
      "text/plain": [
       "<function matplotlib.pyplot.show>"
      ]
     },
     "execution_count": 8,
     "metadata": {},
     "output_type": "execute_result"
    },
    {
     "data": {
      "image/png": "[encoded data removed]",
      "text/plain": [
       "<Figure size 432x288 with 1 Axes>"
      ]
     },
     "metadata": {},
     "output_type": "display_data"
    }
   ],
   "source": [
    "# plot for class 4\n",
    "\n",
    "%matplotlib inline  \n",
    "import matplotlib.pyplot as plt\n",
    "\n",
    "#the colormap\n",
    "cm = plt.cm.get_cmap('RdYlBu_r')\n",
    "\n",
    "# plot histogram \n",
    "n, bins, patches = plt.hist(label4.iloc[:,1])\n",
    "bin_centers = 0.5 * (bins[:-1] + bins[1:])\n",
    "\n",
    "\"\"\"\n",
    "n: the values of the histogram bins, array or list of arrays\n",
    "bins: the edges of the bin, length nbins + 1\n",
    "patches: list of list of lists\n",
    "\n",
    "\"\"\"\n",
    "# scale values to interval [0,1]\n",
    "col = bin_centers - min(bin_centers)\n",
    "col /= max(col)\n",
    "\n",
    "# iterate over the list of patches to set the color \n",
    "for c, p in zip(col, patches):\n",
    "    plt.setp(p, 'facecolor', cm(c))\n",
    "    \n",
    "plt.show"
   ]
  },
  {
   "cell_type": "code",
   "execution_count": 9,
   "metadata": {},
   "outputs": [
    {
     "data": {
      "text/plain": [
       "<function matplotlib.pyplot.show>"
      ]
     },
     "execution_count": 9,
     "metadata": {},
     "output_type": "execute_result"
    },
    {
     "data": {
      "image/png": "[encoded data removed]",
      "text/plain": [
       "<Figure size 432x288 with 1 Axes>"
      ]
     },
     "metadata": {},
     "output_type": "display_data"
    }
   ],
   "source": [
    "# plot histogram with colors taken from colormap \n",
    "\n",
    "%matplotlib inline  \n",
    "import matplotlib.pyplot as plt\n",
    "\n",
    "#the colormap\n",
    "cm = plt.cm.get_cmap('RdYlBu_r')\n",
    "\n",
    "# plot histogram \n",
    "n, bins, patches = plt.hist(train.iloc[:,1])\n",
    "bin_centers = 0.5 * (bins[:-1] + bins[1:])\n",
    "\n",
    "\"\"\"\n",
    "n: the values of the histogram bins, array or list of arrays\n",
    "bins: the edges of the bin, length nbins + 1\n",
    "patches: list of list of lists\n",
    "\n",
    "\"\"\"\n",
    "# scale values to interval [0,1]\n",
    "col = bin_centers - min(bin_centers)\n",
    "col /= max(col)\n",
    "\n",
    "# iterate over the list of patches to set the color \n",
    "for c, p in zip(col, patches):\n",
    "    plt.setp(p, 'facecolor', cm(c))\n",
    "    \n",
    "plt.show"
   ]
  },
  {
   "cell_type": "code",
   "execution_count": 10,
   "metadata": {},
   "outputs": [
    {
     "data": {
      "image/png": "[encoded data removed]",
      "text/plain": [
       "<Figure size 432x288 with 1 Axes>"
      ]
     },
     "metadata": {},
     "output_type": "display_data"
    }
   ],
   "source": [
    "# with probability density line \n",
    "\n",
    "%matplotlib inline  \n",
    "import scipy.stats as stats\n",
    "import matplotlib.pyplot as plt\n",
    "\n",
    "density = stats.gaussian_kde(train.iloc[:,1])\n",
    "n, bins, patches = plt.hist(train.iloc[:,1], density=True)\n",
    "plt.plot(bins, density(bins))\n",
    "\n",
    "plt.show()"
   ]
  },
  {
   "cell_type": "markdown",
   "metadata": {},
   "source": [
    "Regardless of our results from question 1, we will assume all distributions really are Gaussian for the rest of this assignment.\n",
    "\n",
    "### Question 2: learnMean \n",
    "\n",
    "Write a function called *learnMean* that takes in the training set (the full trainData matrix) and a class number, and returns the learned mean amountAlcohol for that class. Specifically, the function will be called as:\n",
    "\n",
    "                              learnMean(Data, classNum)\n",
    "                               \n",
    "where Data is a numpy array with shape/size [N,2] (where N is the number of data points) and classNum is a single number, the function will return a single number.\n",
    "\n",
    "                  learnMean(np.array([[1,3],[2,5],[1,9],[2,10]]) , 2)\n",
    "                        \n",
    "would return 7.5 ( (10+5)/2 )"
   ]
  },
  {
   "cell_type": "code",
   "execution_count": null,
   "metadata": {
    "collapsed": true
   },
   "outputs": [],
   "source": [
    "import numpy as np\n",
    "\n",
    "# convert train and test to numpy array\n",
    "trainData = np.array(trainData)\n",
    "trainData"
   ]
  },
  {
   "cell_type": "code",
   "execution_count": 8,
   "metadata": {
    "collapsed": true
   },
   "outputs": [],
   "source": [
    "def learnMean(Data, classNum):\n",
    "    \"\"\"\n",
    "    Data: a numpy array with shape/size[N, 2]\n",
    "    classNum: a single integer\n",
    "    output: a single number of the mean of this class \n",
    "    \"\"\"\n",
    "    # slice rows when column[0] = class label \n",
    "    sub = Data[Data[:,0] == classNum]\n",
    "    \n",
    "    # sum amountAlcohol by column, then slice to get sumAlc\n",
    "    # average over the number of people in this class\n",
    "    sumAlc = sub.sum(axis=0)[1]\n",
    "    numPeople = len(sub)\n",
    "    meanAlc = sumAlc/numPeople\n",
    "    \n",
    "    return meanAlc    "
   ]
  },
  {
   "cell_type": "code",
   "execution_count": 14,
   "metadata": {},
   "outputs": [
    {
     "data": {
      "text/plain": [
       "7.5"
      ]
     },
     "execution_count": 14,
     "metadata": {},
     "output_type": "execute_result"
    }
   ],
   "source": [
    "# test case \n",
    "\n",
    "test1 = np.array([[1,3], [2,5], [1,9], [2,10]])\n",
    "classNum = 2\n",
    "learnMean(test1, classNum)"
   ]
  },
  {
   "cell_type": "markdown",
   "metadata": {},
   "source": [
    "**Assume a standard deviation of $\\sigma$ = 2** <br>\n",
    "\n",
    "### Question 3: Maximum Likelihood Classifier\n",
    "\n",
    "Write a function called labelML that takes in an amountAlcohol measurement and a vector containing the mean amountAlcohol values for the four shopper classes. labelML then will return the Maximum Likelihood class for the input amountAlcohol measurement. Specifically, it will be called as: \n",
    "\n",
    "                              labelML(amountAlc, meanVector)\n",
    " \n",
    "where *amountAlc* is a single number and *meanVector* is the numpy array with shape/size [1,4] and with contents [$\\mu_{minor}$, $\\mu_{YoungAdult}$, $\\mu_{Adult}$, $\\mu_{Senior}$]. The function will return a single character, M, Y, A, or S, for the most likely class.\n",
    "\n"
   ]
  },
  {
   "cell_type": "code",
   "execution_count": 7,
   "metadata": {
    "collapsed": true
   },
   "outputs": [],
   "source": [
    "import math \n",
    "import numpy as np\n",
    "\n",
    "def labelML(amountAlc, meanVector):\n",
    "    \"\"\"\n",
    "    amountAlc: integer, an amountAlcohol measurement\n",
    "    meanVector: a vector, the mean amountAlcohol values for the four shopper classes \n",
    "    output: a single character among {M, Y, A, or S} for the most likely class\n",
    "    \"\"\"\n",
    "\n",
    "    # 1) caculate the variance of data: std = 2\n",
    "    variance = 2 ** 2\n",
    "    label = np.array(['M', 'Y', 'A', 'S'])\n",
    "    dic = dict(zip(label, meanVector))\n",
    "    \n",
    "    # 2) get the PDF of each label \n",
    "    # 3) compare the PDF and return the largest one\n",
    "    for key, value in dic.items():\n",
    "        exponent = math.exp(-(math.pow(amountAlc - value, 2) / (2 * variance)))\n",
    "        dic[key] = ((1/(math.sqrt(2 * math.pi * variance))) * exponent)\n",
    "        label = max(dic, key=dic.get)\n",
    "        \n",
    "    return label\n",
    "       "
   ]
  },
  {
   "cell_type": "code",
   "execution_count": 12,
   "metadata": {},
   "outputs": [
    {
     "data": {
      "text/plain": [
       "'S'"
      ]
     },
     "execution_count": 12,
     "metadata": {},
     "output_type": "execute_result"
    }
   ],
   "source": [
    "# test case: return S\n",
    "\n",
    "meanVector = np.array([1, 3, 8, 5])\n",
    "amountAlc = 6\n",
    "a = labelML(amountAlc, meanVector) \n",
    "a"
   ]
  },
  {
   "cell_type": "markdown",
   "metadata": {},
   "source": [
    "Let us assume the prior probabilities for the shopper classes are: \n",
    "* P(y=Minor)=0.3\n",
    "* P(y=Young- adult)=0.4\n",
    "* P(y=middle-aged-Adult)=0.2\n",
    "* P(y=Senior-citizen)=0.1\n",
    "\n",
    "### Question 4: Maximum Posterior Classifier\n",
    "\n",
    "Write a function called labelMP that takes in an amountAlcohol measurement, a vector containing the mean amountAlcohol values for the four shopper classes, and a vector containing the shopper prior probabilities. labelMP then will return the Maximum Posterior probability (Bayes) label for the input amountAlcohol measurement. Specifically, it will be called as:\n",
    "\n",
    "                    labelMP(amountAlc, meansVector, priorVector)\n",
    "\n",
    "where *amountAlc* is a single number, *meanVector* is the numpy array with shape/size [1,4] and with contents [$\\mu_{minor}$, $\\mu_{YoungAdult}$, $\\mu_{Adult}$, $\\mu_{Senior}$]. and priorVector is the numpy array with shape/size [1,3] and with contents [𝑃(𝑦 = 𝑀𝑖𝑛𝑜𝑟), 𝑃(𝑌 = 𝑌𝑜𝑢𝑛𝑔𝐴𝑑𝑢𝑙𝑡), 𝑃(𝑌 = 𝐴𝑑𝑢𝑙𝑡)].\n",
    "\n",
    "The function will return a single character, M, Y, A, or S, for the most probable class."
   ]
  },
  {
   "cell_type": "code",
   "execution_count": 6,
   "metadata": {
    "collapsed": true
   },
   "outputs": [],
   "source": [
    "import math \n",
    "\n",
    "def labelMP(amountAlc, meanVector, priorVector):\n",
    "    \"\"\"\n",
    "    amountAlc: integer \n",
    "    meanVector: numpy array with shape/size [1,4]\n",
    "    priorVector: numpy array\n",
    "    output: a single character, M, Y, A, or S, for the most probable class\n",
    "    \"\"\"\n",
    "    \n",
    "    # 1. caculate the variance of data: std = 2\n",
    "    # 2. get the PDF of each label \n",
    "    # 3. compare PDF and return the largest one\n",
    "    \n",
    "    variance = 2 ** 2\n",
    "    label = np.array(['M', 'Y', 'A', 'S'])\n",
    "    dicMean = dict(zip(label, meanVector))\n",
    "    dicPrior = dict(zip(label, priorVector))\n",
    "\n",
    "    dicPDF = {}\n",
    "    for key, value in dicMean.items():\n",
    "        exponent = math.exp(-(math.pow(amountAlc - value, 2) / (2 * variance)))\n",
    "        result = ((1/(math.sqrt(2 * math.pi * variance))) * exponent)\n",
    "        dicPDF[key] = result\n",
    "\n",
    "    dicBayes = {}\n",
    "    for key, value in dicPrior.items():  \n",
    "        if key in dicPDF:\n",
    "            dicBayes[key] = dicPrior[key] * dicPDF[key]\n",
    "\n",
    "    label = max(dicBayes, key=dicBayes.get)\n",
    "    \n",
    "    return label"
   ]
  },
  {
   "cell_type": "code",
   "execution_count": 50,
   "metadata": {},
   "outputs": [
    {
     "data": {
      "text/plain": [
       "'Y'"
      ]
     },
     "execution_count": 50,
     "metadata": {},
     "output_type": "execute_result"
    }
   ],
   "source": [
    "meanVector = np.array([1, 3, 8, 5])\n",
    "priorVector = np.array([0.3, 0.4, 0.2, 0.1])\n",
    "amountAlc = 6\n",
    "\n",
    "labelMP(amountAlc, meanVector, priorVector)"
   ]
  },
  {
   "cell_type": "markdown",
   "metadata": {},
   "source": [
    "For questions 5 and 6 below, recall the following class labels in hw1data.mat: \n",
    "* minor - 1\n",
    "* young adult/teen - 2\n",
    "* middle-aged adult - 3\n",
    "* senior citizen - 4\n",
    "\n",
    "The outputs of labelML and labelMP are letters instead: M, Y, A, and S.\n",
    "\n",
    "### Question 5: evaluateML\n",
    "\n",
    "Write a function called evaluateML that takes in all the test data (as a matrix) and the class amountAlcohol means (as a vector), and outputs the fraction of correctly-labeled data points in the test set. (The fraction will be a decimal number between 0.0 and 1.0, e.g., 0.65.) Specifically, it will be called as:\n",
    "\n",
    "                            evaluateML(testData, meanVector)\n",
    "\n",
    "where testData is a numpy array of size/shape [N,2] and meanVector is the numpy array with shape/size [1,4] and with contents [$\\mu_{minor}$, $\\mu_{YoungAdult}$, $\\mu_{Adult}$, $\\mu_{Senior}$]. \n",
    "The function will return a single number between 0 and 1."
   ]
  },
  {
   "cell_type": "code",
   "execution_count": 17,
   "metadata": {},
   "outputs": [
    {
     "data": {
      "text/plain": [
       "array([[ 1,  4],\n",
       "       [ 2,  8],\n",
       "       [ 3,  6],\n",
       "       ...,\n",
       "       [ 3, 11],\n",
       "       [ 1,  7],\n",
       "       [ 3, 11]], dtype=uint8)"
      ]
     },
     "execution_count": 17,
     "metadata": {},
     "output_type": "execute_result"
    }
   ],
   "source": [
    "testData"
   ]
  },
  {
   "cell_type": "code",
   "execution_count": 5,
   "metadata": {
    "collapsed": true
   },
   "outputs": [],
   "source": [
    "import pandas as pd \n",
    "    \n",
    "def evaluateML(testData, meanVector):\n",
    "    \"\"\"\n",
    "    testData: a numpy array of size/shape [N,2] \n",
    "    meanVector: the numpy array with shape/size [1,4] \n",
    "    output: the fraction of correctly-labeled data points in the test set [0,1]\n",
    "    \"\"\"\n",
    "    \n",
    "    # 1. predict the label for all the test data \n",
    "    # 2. compare the label of all the test data with their true label \n",
    "    # 3. calculate the % of correct labels \n",
    "    \n",
    "    test = pd.DataFrame(testData).rename(index=str, columns={0:\"label\", 1:\"amountAlcohol\"})\n",
    "    labelDic = {1: 'M', 2: 'Y', 3: 'A', 4: 'S'}\n",
    "    test['label2'] = [labelDic[x] for x in test.label]\n",
    "\n",
    "    predict = []\n",
    "    for i in test['amountAlcohol']:\n",
    "        predict.append(labelML(i, meanVector))\n",
    "    test['predict'] = predict\n",
    "\n",
    "    test['true'] = np.where((test['predict'] == test['label2']), 1, 0)\n",
    "    accuracy = len(test[test['true'] == 1])/len(test['true'])\n",
    "    \n",
    "    return accuracy\n"
   ]
  },
  {
   "cell_type": "code",
   "execution_count": 52,
   "metadata": {},
   "outputs": [
    {
     "data": {
      "text/plain": [
       "0.2633333333333333"
      ]
     },
     "execution_count": 52,
     "metadata": {},
     "output_type": "execute_result"
    }
   ],
   "source": [
    "# test case: return S\n",
    "\n",
    "meanVector = np.array([1, 3, 8, 5])\n",
    "a = evaluateML(testData, meanVector) \n",
    "a"
   ]
  },
  {
   "cell_type": "markdown",
   "metadata": {},
   "source": [
    "### Question 6: evaluateMP\n",
    "\n",
    "Write a function called evaluateMP that takes in all the test data (as a matrix), the class amountAlcohol means (as a vector), and the class priors (as a vector), and outputs the fraction of correctly-labeled data points in the test set. (The fraction will be a decimal number between 0.0 and 1.0, e.g., 0.65.) Specifically, it will be called as:\n",
    "\n",
    "                    evaluateMP(testData, meanVector, priorVector)\n",
    "\n",
    "where testData is a numpy array of size/shape [N,2] , meanVector is the numpy array with shape/size [1,4] and with contents [$\\mu_{minor}$, $\\mu_{YoungAdult}$, $\\mu_{Adult}$, $\\mu_{Senior}$], and priorVector is the numpy array with shape/size [1,3] and with contents [𝑃(𝑦 = 𝑀𝑖𝑛𝑜𝑟), 𝑃(𝑌 = 𝑌𝑜𝑢𝑛𝑔𝐴𝑑𝑢𝑙𝑡), 𝑃(𝑌 = 𝐴𝑑𝑢𝑙𝑡)] . The function will return a single number between 0 and 1."
   ]
  },
  {
   "cell_type": "code",
   "execution_count": 4,
   "metadata": {
    "collapsed": true
   },
   "outputs": [],
   "source": [
    "def evaluateMP(testData, meanVector, priorVector):\n",
    "    \"\"\"\n",
    "    testData: a numpy array of size/shape [N,2] \n",
    "    meanVector: a numpy array with shape/size [1,4] \n",
    "    priorVector: a numpy array with shape/size [1,3]\n",
    "    output: the fraction of correctly-labeled data points in the test set [0,1]\n",
    "    \"\"\"\n",
    "    \n",
    "    # 1. predict the label for all the test data \n",
    "    # 2. compare the label of all the test data with their true label \n",
    "    # 3. calculate the % of correct labels \n",
    "    \n",
    "    test = pd.DataFrame(testData).rename(index=str, columns={0:\"label\", 1:\"amountAlcohol\"})\n",
    "    labelDic = {1: 'M', 2: 'Y', 3: 'A', 4: 'S'}\n",
    "    test['label2'] = [labelDic[x] for x in test.label]\n",
    "\n",
    "    predict = []\n",
    "    for i in test['amountAlcohol']:\n",
    "        predict.append(labelMP(i, meanVector, priorVector))\n",
    "    test['predict'] = predict\n",
    "\n",
    "    test['true'] = np.where((test['predict'] == test['label2']), 1, 0)\n",
    "    accuracy = len(test[test['true'] == 1])/len(test['true'])\n",
    "    \n",
    "    return accuracy  "
   ]
  },
  {
   "cell_type": "code",
   "execution_count": 54,
   "metadata": {},
   "outputs": [
    {
     "data": {
      "text/plain": [
       "0.2941666666666667"
      ]
     },
     "execution_count": 54,
     "metadata": {},
     "output_type": "execute_result"
    }
   ],
   "source": [
    "# test case: return S\n",
    "\n",
    "meanVector = np.array([1, 3, 8, 5])\n",
    "priorVector = np.array([0.3, 0.4, 0.2, 0.1])\n",
    "amountAlc = 6\n",
    "a = evaluateMP(testData, meanVector, priorVector)\n",
    "a"
   ]
  },
  {
   "cell_type": "markdown",
   "metadata": {},
   "source": [
    "### Question 7: Different Training Size\n",
    "\n",
    "Report the percent of correctly labeled test data for max likelihood and max posterior separately when means are learned:\n",
    "1. on the first 6 data points in the training set,\n",
    "2. on the first 18 data points,\n",
    "3. on the first 54 data points,\n",
    "4. on and the first 162 data points."
   ]
  },
  {
   "cell_type": "code",
   "execution_count": 12,
   "metadata": {},
   "outputs": [
    {
     "data": {
      "text/plain": [
       "array([[ 3, 10],\n",
       "       [ 4, 12],\n",
       "       [ 4, 13],\n",
       "       ...,\n",
       "       [ 3,  9],\n",
       "       [ 3, 12],\n",
       "       [ 1,  7]], dtype=uint8)"
      ]
     },
     "execution_count": 12,
     "metadata": {},
     "output_type": "execute_result"
    }
   ],
   "source": [
    "priorVector = np.array([0.3, 0.4, 0.2, 0.1])\n",
    "trainData"
   ]
  },
  {
   "cell_type": "markdown",
   "metadata": {},
   "source": [
    "#### 1) means are learned on the 1st 6 data points in the training set"
   ]
  },
  {
   "cell_type": "code",
   "execution_count": 78,
   "metadata": {},
   "outputs": [
    {
     "data": {
      "text/plain": [
       "array([[ 3, 10],\n",
       "       [ 4, 12],\n",
       "       [ 4, 13],\n",
       "       [ 2,  9],\n",
       "       [ 1,  3],\n",
       "       [ 2, 11]], dtype=uint8)"
      ]
     },
     "execution_count": 78,
     "metadata": {},
     "output_type": "execute_result"
    }
   ],
   "source": [
    "train6 = trainData[0:6]\n",
    "train6"
   ]
  },
  {
   "cell_type": "code",
   "execution_count": 79,
   "metadata": {},
   "outputs": [
    {
     "data": {
      "text/plain": [
       "[3.0, 10.0, 10.0, 12.5]"
      ]
     },
     "execution_count": 79,
     "metadata": {},
     "output_type": "execute_result"
    }
   ],
   "source": [
    "mean6 = []\n",
    "for i in range(1,5):\n",
    "    mean6.append(learnMean(train6, i))\n",
    "\n",
    "mean6"
   ]
  },
  {
   "cell_type": "code",
   "execution_count": 80,
   "metadata": {},
   "outputs": [
    {
     "data": {
      "text/plain": [
       "0.8333333333333334"
      ]
     },
     "execution_count": 80,
     "metadata": {},
     "output_type": "execute_result"
    }
   ],
   "source": [
    "evaluateML(train6, mean6)"
   ]
  },
  {
   "cell_type": "code",
   "execution_count": 81,
   "metadata": {},
   "outputs": [
    {
     "data": {
      "text/plain": [
       "0.5"
      ]
     },
     "execution_count": 81,
     "metadata": {},
     "output_type": "execute_result"
    }
   ],
   "source": [
    "evaluateMP(train6, mean6, priorVector)"
   ]
  },
  {
   "cell_type": "markdown",
   "metadata": {},
   "source": [
    "#### 2) means are learned on the 1st on the first 18 data points"
   ]
  },
  {
   "cell_type": "code",
   "execution_count": 82,
   "metadata": {},
   "outputs": [
    {
     "data": {
      "text/plain": [
       "[4.25, 8.777777777777779, 10.333333333333334, 12.5]"
      ]
     },
     "execution_count": 82,
     "metadata": {},
     "output_type": "execute_result"
    }
   ],
   "source": [
    "train18 = trainData[0:18]\n",
    "mean18 = []\n",
    "for i in range(1,5):\n",
    "    mean18.append(learnMean(train18, i))\n",
    "\n",
    "mean18"
   ]
  },
  {
   "cell_type": "code",
   "execution_count": 83,
   "metadata": {},
   "outputs": [
    {
     "data": {
      "text/plain": [
       "0.8888888888888888"
      ]
     },
     "execution_count": 83,
     "metadata": {},
     "output_type": "execute_result"
    }
   ],
   "source": [
    "evaluateML(train18, mean18)"
   ]
  },
  {
   "cell_type": "code",
   "execution_count": 84,
   "metadata": {},
   "outputs": [
    {
     "data": {
      "text/plain": [
       "0.7777777777777778"
      ]
     },
     "execution_count": 84,
     "metadata": {},
     "output_type": "execute_result"
    }
   ],
   "source": [
    "evaluateMP(train18, mean18, priorVector)"
   ]
  },
  {
   "cell_type": "markdown",
   "metadata": {},
   "source": [
    "#### 3) means are learned on the 1st on the first 54 data points"
   ]
  },
  {
   "cell_type": "code",
   "execution_count": 9,
   "metadata": {},
   "outputs": [
    {
     "data": {
      "text/plain": [
       "[5.714285714285714, 8.04, 10.083333333333334, 13.0]"
      ]
     },
     "execution_count": 9,
     "metadata": {},
     "output_type": "execute_result"
    }
   ],
   "source": [
    "train54 = trainData[0:54]\n",
    "mean54 = []\n",
    "for i in range(1,5):\n",
    "    mean54.append(learnMean(train54, i))\n",
    "mean54"
   ]
  },
  {
   "cell_type": "code",
   "execution_count": 10,
   "metadata": {},
   "outputs": [
    {
     "data": {
      "text/plain": [
       "0.6481481481481481"
      ]
     },
     "execution_count": 10,
     "metadata": {},
     "output_type": "execute_result"
    }
   ],
   "source": [
    "evaluateML(train54, mean54)"
   ]
  },
  {
   "cell_type": "code",
   "execution_count": 13,
   "metadata": {},
   "outputs": [
    {
     "data": {
      "text/plain": [
       "0.6481481481481481"
      ]
     },
     "execution_count": 13,
     "metadata": {},
     "output_type": "execute_result"
    }
   ],
   "source": [
    "evaluateMP(train54, mean54, priorVector)"
   ]
  },
  {
   "cell_type": "markdown",
   "metadata": {},
   "source": [
    "#### 4) means are learned on the 1st on the first 162 data points"
   ]
  },
  {
   "cell_type": "code",
   "execution_count": 14,
   "metadata": {},
   "outputs": [
    {
     "data": {
      "text/plain": [
       "[5.627906976744186, 8.458333333333334, 9.948717948717949, 12.75]"
      ]
     },
     "execution_count": 14,
     "metadata": {},
     "output_type": "execute_result"
    }
   ],
   "source": [
    "train162 = trainData[0:162]\n",
    "mean162 = []\n",
    "for i in range(1,5):\n",
    "    mean162.append(learnMean(train162, i))\n",
    "mean162"
   ]
  },
  {
   "cell_type": "code",
   "execution_count": 15,
   "metadata": {},
   "outputs": [
    {
     "data": {
      "text/plain": [
       "0.5925925925925926"
      ]
     },
     "execution_count": 15,
     "metadata": {},
     "output_type": "execute_result"
    }
   ],
   "source": [
    "evaluateML(train162, mean162)"
   ]
  },
  {
   "cell_type": "code",
   "execution_count": 16,
   "metadata": {},
   "outputs": [
    {
     "data": {
      "text/plain": [
       "0.6172839506172839"
      ]
     },
     "execution_count": 16,
     "metadata": {},
     "output_type": "execute_result"
    }
   ],
   "source": [
    "evaluateMP(train162, mean162, priorVector)"
   ]
  },
  {
   "cell_type": "markdown",
   "metadata": {},
   "source": [
    "### Question 8: Multiple Features\n",
    "\n",
    "Consider shopper classification based on both how much alcohol they buy and how much soda they buy:\n",
    "\n",
    "$\\underset{𝒔𝒉𝒐𝒑𝒑𝒆𝒓𝑨𝒈𝒆}{\\operatorname{a𝐫𝐠𝐦𝐚𝐱}} 𝑷(𝒔𝒉𝒐𝒑𝒑𝒆𝒓𝑨𝒈𝒆|𝒂𝒎𝒕𝑨𝒍𝒄𝒐𝒉𝒐𝒍,𝒂𝒎𝒕𝑺𝒐𝒅𝒂)$\n",
    "\n",
    "hw1dataQ8.mat contains expanded data where the first column is subject class (1 through 4), the second column is amtAlcohol, and the third column is amtSoda. </br>\n",
    "\n",
    "Write a function **labelMP2** to perform Gaussian Naïve Bayes classification based on amtAlcohol and amtSoda. It will classify a single shopper based on her/his alcohol and soda purchases and based on the corresponding likelihoods and priors. Specifically, it will be called as:\n",
    "    \n",
    "                     labelMP(amountDrinks, meansMatrix, priorVector)\n",
    "\n",
    "where amountDrinks is a numpy array with shape/size [1,2] contains [amtAlcohol, amtSoda] for a single shopper, meansMatrix is the numpy array with shape/size [2,4] and with contents\n",
    "\n",
    "$\\left[\\begin{array}{cc} \n",
    "       \\mu_{minor}^{alcohol} & \\mu_{YoungAdult}^{alcohol} & \\mu_{Adult}^{alcohol} & \\mu_{Senior}^{alcohol}\\\\\n",
    "       \\mu_{minor}^{soda} & \\mu_{YoungAdult}^{soda} & \\mu_{Adult}^{soda} & \\mu_{Senior}^{soda}\n",
    "       \\end{array}\\right]$\n",
    "\n",
    "and *priorVector* is the numpy array with shape/size [1,3] and with contents [𝑃(𝑦 = 𝑀𝑖𝑛𝑜𝑟), 𝑃(𝑌 = 𝑌𝑜𝑢𝑛𝑔𝐴𝑑𝑢𝑙𝑡), 𝑃(𝑌 = 𝐴𝑑𝑢𝑙𝑡)]. \n",
    "\n",
    "As in previous questions, we will assume all **likelihood standard deviations are 2, 𝝈 = 𝟐**. The function will return a single character, M, Y, A, or S, for the most probable class. Again, the function is to return the class letter (M, Y, A, or S) with highest probability.\n",
    "\n",
    "Recall the prior probabilities for the shopper classes are: \n",
    "* P(y=Minor)=0.3\n",
    "* P(y=Young- adult)=0.4\n",
    "* P(y=middle-aged-Adult)=0.2\n",
    "* P(y=Senior-citizen)=0.1"
   ]
  },
  {
   "cell_type": "code",
   "execution_count": 17,
   "metadata": {},
   "outputs": [
    {
     "data": {
      "text/plain": [
       "array([[ 3.        , 10.        , 14.229271  ],\n",
       "       [ 4.        , 12.        ,  6.31721137],\n",
       "       [ 4.        , 13.        ,  8.77715465],\n",
       "       ...,\n",
       "       [ 3.        ,  9.        , 15.91507819],\n",
       "       [ 3.        , 12.        , 15.47556419],\n",
       "       [ 1.        ,  7.        ,  8.1045919 ]])"
      ]
     },
     "execution_count": 17,
     "metadata": {},
     "output_type": "execute_result"
    }
   ],
   "source": [
    "import scipy.io\n",
    "\n",
    "q8 = scipy.io.loadmat('hw1dataQ8.mat')\n",
    "train8 = q8['trainData']\n",
    "test8 = q8['testData']\n",
    "train8"
   ]
  },
  {
   "cell_type": "code",
   "execution_count": 18,
   "metadata": {
    "collapsed": true
   },
   "outputs": [],
   "source": [
    "priorVector = np.array([0.3, 0.4, 0.2, 0.1])"
   ]
  },
  {
   "cell_type": "code",
   "execution_count": 19,
   "metadata": {},
   "outputs": [
    {
     "data": {
      "text/plain": [
       "array([[ 3., 10.],\n",
       "       [ 4., 12.],\n",
       "       [ 4., 13.],\n",
       "       ...,\n",
       "       [ 3.,  9.],\n",
       "       [ 3., 12.],\n",
       "       [ 1.,  7.]])"
      ]
     },
     "execution_count": 19,
     "metadata": {},
     "output_type": "execute_result"
    }
   ],
   "source": [
    "trainAlc = train8[:,0:2]\n",
    "trainAlc"
   ]
  },
  {
   "cell_type": "code",
   "execution_count": 20,
   "metadata": {},
   "outputs": [
    {
     "data": {
      "text/plain": [
       "[6.093607305936073, 8.6592, 10.053333333333333, 13.253968253968255]"
      ]
     },
     "execution_count": 20,
     "metadata": {},
     "output_type": "execute_result"
    }
   ],
   "source": [
    "meanAlc = []\n",
    "for i in range(1,5):\n",
    "    meanAlc.append(learnMean(trainAlc, i))\n",
    "meanAlc"
   ]
  },
  {
   "cell_type": "code",
   "execution_count": 21,
   "metadata": {},
   "outputs": [
    {
     "data": {
      "text/plain": [
       "array([[ 3.        , 14.229271  ],\n",
       "       [ 4.        ,  6.31721137],\n",
       "       [ 4.        ,  8.77715465],\n",
       "       ...,\n",
       "       [ 3.        , 15.91507819],\n",
       "       [ 3.        , 15.47556419],\n",
       "       [ 1.        ,  8.1045919 ]])"
      ]
     },
     "execution_count": 21,
     "metadata": {},
     "output_type": "execute_result"
    }
   ],
   "source": [
    "trainSod = train8[:,(0,2)]\n",
    "trainSod"
   ]
  },
  {
   "cell_type": "code",
   "execution_count": 22,
   "metadata": {},
   "outputs": [
    {
     "data": {
      "text/plain": [
       "[7.176792173157934, 14.019995524565415, 14.047521984317518, 7.252824211485946]"
      ]
     },
     "execution_count": 22,
     "metadata": {},
     "output_type": "execute_result"
    }
   ],
   "source": [
    "meanSod = []\n",
    "for i in range(1,5):\n",
    "    meanSod.append(learnMean(trainSod, i))\n",
    "meanSod"
   ]
  },
  {
   "cell_type": "code",
   "execution_count": 23,
   "metadata": {},
   "outputs": [
    {
     "data": {
      "text/plain": [
       "array([[ 6.09360731,  8.6592    , 10.05333333, 13.25396825],\n",
       "       [ 7.17679217, 14.01999552, 14.04752198,  7.25282421]])"
      ]
     },
     "execution_count": 23,
     "metadata": {},
     "output_type": "execute_result"
    }
   ],
   "source": [
    "meansMatrix = np.array([meanAlc, meanSod])\n",
    "meansMatrix"
   ]
  },
  {
   "cell_type": "code",
   "execution_count": 46,
   "metadata": {},
   "outputs": [
    {
     "data": {
      "text/plain": [
       "array([[10.        , 14.229271  ],\n",
       "       [12.        ,  6.31721137],\n",
       "       [13.        ,  8.77715465],\n",
       "       ...,\n",
       "       [ 9.        , 15.91507819],\n",
       "       [12.        , 15.47556419],\n",
       "       [ 7.        ,  8.1045919 ]])"
      ]
     },
     "execution_count": 46,
     "metadata": {},
     "output_type": "execute_result"
    }
   ],
   "source": [
    "# subset nparray \n",
    "Drinks = train8[:,1:3]\n",
    "Drinks"
   ]
  },
  {
   "cell_type": "code",
   "execution_count": 48,
   "metadata": {},
   "outputs": [
    {
     "data": {
      "text/plain": [
       "array([10.      , 14.229271])"
      ]
     },
     "execution_count": 48,
     "metadata": {},
     "output_type": "execute_result"
    }
   ],
   "source": [
    "amountDrinks = Drinks[0]\n",
    "amountDrinks"
   ]
  },
  {
   "cell_type": "code",
   "execution_count": 89,
   "metadata": {
    "collapsed": true
   },
   "outputs": [],
   "source": [
    "def labelMP2(amountDrinks, meansMatrix, priorVector):\n",
    "    \"\"\"\n",
    "    amountDrinks: a numpy array with shape/size [1,2] contains [amtAlcohol, amtSoda]\n",
    "    meansMatrix: a numpy array with shape/size [2,4]\n",
    "    priorVector: numpy array\n",
    "    output: a single character, M, Y, A, or S, for the most probable class\n",
    "    \"\"\"\n",
    "    \n",
    "    # 1. caculate the variance of data: std = 2\n",
    "    # 2. get the PDF of each label of each feature\n",
    "    # 3. pdf * prior\n",
    "    \n",
    "    variance = 2 ** 2\n",
    "    label = np.array(['M', 'Y', 'A', 'S'])\n",
    "    mean = pd.DataFrame(meansMatrix).rename(index=str, columns={0:\"M\", 1:\"Y\", 2:\"A\", 3:\"S\"}).transpose()\n",
    "\n",
    "    dicPDFAlc = []\n",
    "    for i in mean['0']:\n",
    "        exponent = math.exp(-(math.pow(amountDrinks[0] - i, 2) / (2 * variance)))\n",
    "        result = ((1/(math.sqrt(2 * math.pi * variance))) * exponent)\n",
    "        dicPDFAlc.append(result)\n",
    "    mean['pdfAlc'] = dicPDFAlc\n",
    "\n",
    "    dicPDFSod = []\n",
    "    for i in mean['1']:\n",
    "        exponent = math.exp(-(math.pow(amountDrinks[1] - i, 2) / (2 * variance)))\n",
    "        result = ((1/(math.sqrt(2 * math.pi * variance))) * exponent)\n",
    "        dicPDFSod.append(result)\n",
    "    mean['pdfSod'] = dicPDFSod\n",
    "    \n",
    "    mean['pior'] = priorVector\n",
    "    mean['class'] = mean['pior'] * mean['pdfAlc'] * mean['pdfSod']\n",
    "\n",
    "    label = mean[mean['class'] == max(mean['class'])].index[0]\n",
    "    \n",
    "    return label"
   ]
  },
  {
   "cell_type": "code",
   "execution_count": 90,
   "metadata": {},
   "outputs": [
    {
     "data": {
      "text/plain": [
       "'Y'"
      ]
     },
     "execution_count": 90,
     "metadata": {},
     "output_type": "execute_result"
    }
   ],
   "source": [
    "labelMP2(amountDrinks, meansMatrix, priorVector)"
   ]
  },
  {
   "cell_type": "code",
   "execution_count": null,
   "metadata": {
    "collapsed": true
   },
   "outputs": [],
   "source": []
  },
  {
   "cell_type": "code",
   "execution_count": null,
   "metadata": {
    "collapsed": true
   },
   "outputs": [],
   "source": []
  }
 ],
 "metadata": {
  "kernelspec": {
   "display_name": "Python 3",
   "language": "python",
   "name": "python3"
  },
  "language_info": {
   "codemirror_mode": {
    "name": "ipython",
    "version": 3
   },
   "file_extension": ".py",
   "mimetype": "text/x-python",
   "name": "python",
   "nbconvert_exporter": "python",
   "pygments_lexer": "ipython3",
   "version": "3.6.3"
  }
 },
 "nbformat": 4,
 "nbformat_minor": 2
}
