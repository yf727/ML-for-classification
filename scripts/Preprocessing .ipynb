{
 "cells": [
  {
   "cell_type": "markdown",
   "metadata": {},
   "source": [
    "# Data Preprocessing \n",
    "\n",
    "This notebook includes techniques for data preprocessing regarding: \n",
    "\n",
    "1. Imputation of missing values\n",
    "\n",
    "    * mean, mode imputation\n",
    "    * using k-Nearest Neighbors \n",
    "\n",
    "\n",
    "2. Encoding & Feature Engineering\n",
    "    * one-Hot encode\n",
    "    * integer encode\n",
    "    * binary encode\n",
    "    * bin-counting scheme\n",
    "\n",
    "\n",
    "3. Standardization & Normalization \n",
    "\n",
    "\n",
    "---------------------\n",
    "\n",
    "Sample data: UCI diabetes readmission \n",
    "\n",
    "https://archive.ics.uci.edu/ml/datasets/Diabetes+130-US+hospitals+for+years+1999-2008#\n",
    "\n",
    "https://www.hindawi.com/journals/bmri/2014/781670/tab1/\n"
   ]
  },
  {
   "cell_type": "code",
   "execution_count": 2,
   "metadata": {
    "collapsed": true
   },
   "outputs": [],
   "source": [
    "# load packages\n",
    "\n",
    "import pandas as pd \n",
    "import numpy as np "
   ]
  },
  {
   "cell_type": "code",
   "execution_count": 3,
   "metadata": {
    "collapsed": true
   },
   "outputs": [],
   "source": [
    "# set up display options for dataframe \n",
    "\n",
    "pd.options.mode.chained_assignment = None\n",
    "pd.set_option('display.max_columns', 999)\n",
    "# pd.options.display.max_columns = 999"
   ]
  },
  {
   "cell_type": "code",
   "execution_count": 8,
   "metadata": {},
   "outputs": [
    {
     "name": "stdout",
     "output_type": "stream",
     "text": [
      "(101766, 50)\n",
      "       encounter_id   patient_nbr  admission_type_id  \\\n",
      "count  1.017660e+05  1.017660e+05      101766.000000   \n",
      "mean   1.652016e+08  5.433040e+07           2.024006   \n",
      "std    1.026403e+08  3.869636e+07           1.445403   \n",
      "min    1.252200e+04  1.350000e+02           1.000000   \n",
      "25%    8.496119e+07  2.341322e+07           1.000000   \n",
      "50%    1.523890e+08  4.550514e+07           1.000000   \n",
      "75%    2.302709e+08  8.754595e+07           3.000000   \n",
      "max    4.438672e+08  1.895026e+08           8.000000   \n",
      "\n",
      "       discharge_disposition_id  admission_source_id  time_in_hospital  \\\n",
      "count             101766.000000        101766.000000     101766.000000   \n",
      "mean                   3.715642             5.754437          4.395987   \n",
      "std                    5.280166             4.064081          2.985108   \n",
      "min                    1.000000             1.000000          1.000000   \n",
      "25%                    1.000000             1.000000          2.000000   \n",
      "50%                    1.000000             7.000000          4.000000   \n",
      "75%                    4.000000             7.000000          6.000000   \n",
      "max                   28.000000            25.000000         14.000000   \n",
      "\n",
      "       num_lab_procedures  num_procedures  num_medications  number_outpatient  \\\n",
      "count       101766.000000   101766.000000    101766.000000      101766.000000   \n",
      "mean            43.095641        1.339730        16.021844           0.369357   \n",
      "std             19.674362        1.705807         8.127566           1.267265   \n",
      "min              1.000000        0.000000         1.000000           0.000000   \n",
      "25%             31.000000        0.000000        10.000000           0.000000   \n",
      "50%             44.000000        1.000000        15.000000           0.000000   \n",
      "75%             57.000000        2.000000        20.000000           0.000000   \n",
      "max            132.000000        6.000000        81.000000          42.000000   \n",
      "\n",
      "       number_emergency  number_inpatient  number_diagnoses  \n",
      "count     101766.000000     101766.000000     101766.000000  \n",
      "mean           0.197836          0.635566          7.422607  \n",
      "std            0.930472          1.262863          1.933600  \n",
      "min            0.000000          0.000000          1.000000  \n",
      "25%            0.000000          0.000000          6.000000  \n",
      "50%            0.000000          0.000000          8.000000  \n",
      "75%            0.000000          1.000000          9.000000  \n",
      "max           76.000000         21.000000         16.000000  \n"
     ]
    }
   ],
   "source": [
    "# load data \n",
    "data = pd.read_csv('Desktop/code/cisc6930_dm/data/dataset_diabetes/diabetic_data.csv')\n",
    "print(data.shape)\n",
    "\n",
    "# data types and descriptive stats\n",
    "# print(data.info())\n",
    "print(data.describe())\n",
    "\n",
    "# make a copy of the dataframe for preprocessing\n",
    "# create an empty dataframe to store data later \n",
    "df_clean = pd.DataFrame()\n",
    "df = data.copy(deep=True)"
   ]
  },
  {
   "cell_type": "code",
   "execution_count": 97,
   "metadata": {},
   "outputs": [
    {
     "data": {
      "text/plain": [
       "101766"
      ]
     },
     "execution_count": 97,
     "metadata": {},
     "output_type": "execute_result"
    }
   ],
   "source": [
    "# check unique id \n",
    "\n",
    "len(data.patient_nbr.unique())\n",
    "len(data.encounter_id.unique())\n",
    "\n",
    "# df = data.groupby(\"patient_nbr\").filter(lambda x: len(x) > 1)\n",
    "# df.head()\n",
    "\n",
    "# df_115196778 = data[data['patient_nbr'] == 115196778]\n",
    "# df_115196778.to_csv(\"Desktop/instance.csv\", index=True, header=True)"
   ]
  },
  {
   "cell_type": "markdown",
   "metadata": {},
   "source": [
    "## 1. Check and imput missing values \n",
    "\n",
    "count the number and percentage of missing values in each variables\n"
   ]
  },
  {
   "cell_type": "code",
   "execution_count": 98,
   "metadata": {},
   "outputs": [
    {
     "data": {
      "text/html": [
       "<div>\n",
       "<style scoped>\n",
       "    .dataframe tbody tr th:only-of-type {\n",
       "        vertical-align: middle;\n",
       "    }\n",
       "\n",
       "    .dataframe tbody tr th {\n",
       "        vertical-align: top;\n",
       "    }\n",
       "\n",
       "    .dataframe thead th {\n",
       "        text-align: right;\n",
       "    }\n",
       "</style>\n",
       "<table border=\"1\" class=\"dataframe\">\n",
       "  <thead>\n",
       "    <tr style=\"text-align: right;\">\n",
       "      <th></th>\n",
       "      <th>encounter_id</th>\n",
       "      <th>patient_nbr</th>\n",
       "      <th>admission_type_id</th>\n",
       "      <th>discharge_disposition_id</th>\n",
       "      <th>admission_source_id</th>\n",
       "      <th>time_in_hospital</th>\n",
       "      <th>num_lab_procedures</th>\n",
       "      <th>num_procedures</th>\n",
       "      <th>num_medications</th>\n",
       "      <th>number_outpatient</th>\n",
       "      <th>number_emergency</th>\n",
       "      <th>number_inpatient</th>\n",
       "      <th>number_diagnoses</th>\n",
       "    </tr>\n",
       "  </thead>\n",
       "  <tbody>\n",
       "    <tr>\n",
       "      <th>count</th>\n",
       "      <td>1.017660e+05</td>\n",
       "      <td>1.017660e+05</td>\n",
       "      <td>101766.000000</td>\n",
       "      <td>101766.000000</td>\n",
       "      <td>101766.000000</td>\n",
       "      <td>101766.000000</td>\n",
       "      <td>101766.000000</td>\n",
       "      <td>101766.000000</td>\n",
       "      <td>101766.000000</td>\n",
       "      <td>101766.000000</td>\n",
       "      <td>101766.000000</td>\n",
       "      <td>101766.000000</td>\n",
       "      <td>101766.000000</td>\n",
       "    </tr>\n",
       "    <tr>\n",
       "      <th>mean</th>\n",
       "      <td>1.652016e+08</td>\n",
       "      <td>5.433040e+07</td>\n",
       "      <td>2.024006</td>\n",
       "      <td>3.715642</td>\n",
       "      <td>5.754437</td>\n",
       "      <td>4.395987</td>\n",
       "      <td>43.095641</td>\n",
       "      <td>1.339730</td>\n",
       "      <td>16.021844</td>\n",
       "      <td>0.369357</td>\n",
       "      <td>0.197836</td>\n",
       "      <td>0.635566</td>\n",
       "      <td>7.422607</td>\n",
       "    </tr>\n",
       "    <tr>\n",
       "      <th>std</th>\n",
       "      <td>1.026403e+08</td>\n",
       "      <td>3.869636e+07</td>\n",
       "      <td>1.445403</td>\n",
       "      <td>5.280166</td>\n",
       "      <td>4.064081</td>\n",
       "      <td>2.985108</td>\n",
       "      <td>19.674362</td>\n",
       "      <td>1.705807</td>\n",
       "      <td>8.127566</td>\n",
       "      <td>1.267265</td>\n",
       "      <td>0.930472</td>\n",
       "      <td>1.262863</td>\n",
       "      <td>1.933600</td>\n",
       "    </tr>\n",
       "    <tr>\n",
       "      <th>min</th>\n",
       "      <td>1.252200e+04</td>\n",
       "      <td>1.350000e+02</td>\n",
       "      <td>1.000000</td>\n",
       "      <td>1.000000</td>\n",
       "      <td>1.000000</td>\n",
       "      <td>1.000000</td>\n",
       "      <td>1.000000</td>\n",
       "      <td>0.000000</td>\n",
       "      <td>1.000000</td>\n",
       "      <td>0.000000</td>\n",
       "      <td>0.000000</td>\n",
       "      <td>0.000000</td>\n",
       "      <td>1.000000</td>\n",
       "    </tr>\n",
       "    <tr>\n",
       "      <th>25%</th>\n",
       "      <td>8.496119e+07</td>\n",
       "      <td>2.341322e+07</td>\n",
       "      <td>1.000000</td>\n",
       "      <td>1.000000</td>\n",
       "      <td>1.000000</td>\n",
       "      <td>2.000000</td>\n",
       "      <td>31.000000</td>\n",
       "      <td>0.000000</td>\n",
       "      <td>10.000000</td>\n",
       "      <td>0.000000</td>\n",
       "      <td>0.000000</td>\n",
       "      <td>0.000000</td>\n",
       "      <td>6.000000</td>\n",
       "    </tr>\n",
       "    <tr>\n",
       "      <th>50%</th>\n",
       "      <td>1.523890e+08</td>\n",
       "      <td>4.550514e+07</td>\n",
       "      <td>1.000000</td>\n",
       "      <td>1.000000</td>\n",
       "      <td>7.000000</td>\n",
       "      <td>4.000000</td>\n",
       "      <td>44.000000</td>\n",
       "      <td>1.000000</td>\n",
       "      <td>15.000000</td>\n",
       "      <td>0.000000</td>\n",
       "      <td>0.000000</td>\n",
       "      <td>0.000000</td>\n",
       "      <td>8.000000</td>\n",
       "    </tr>\n",
       "    <tr>\n",
       "      <th>75%</th>\n",
       "      <td>2.302709e+08</td>\n",
       "      <td>8.754595e+07</td>\n",
       "      <td>3.000000</td>\n",
       "      <td>4.000000</td>\n",
       "      <td>7.000000</td>\n",
       "      <td>6.000000</td>\n",
       "      <td>57.000000</td>\n",
       "      <td>2.000000</td>\n",
       "      <td>20.000000</td>\n",
       "      <td>0.000000</td>\n",
       "      <td>0.000000</td>\n",
       "      <td>1.000000</td>\n",
       "      <td>9.000000</td>\n",
       "    </tr>\n",
       "    <tr>\n",
       "      <th>max</th>\n",
       "      <td>4.438672e+08</td>\n",
       "      <td>1.895026e+08</td>\n",
       "      <td>8.000000</td>\n",
       "      <td>28.000000</td>\n",
       "      <td>25.000000</td>\n",
       "      <td>14.000000</td>\n",
       "      <td>132.000000</td>\n",
       "      <td>6.000000</td>\n",
       "      <td>81.000000</td>\n",
       "      <td>42.000000</td>\n",
       "      <td>76.000000</td>\n",
       "      <td>21.000000</td>\n",
       "      <td>16.000000</td>\n",
       "    </tr>\n",
       "  </tbody>\n",
       "</table>\n",
       "</div>"
      ],
      "text/plain": [
       "       encounter_id   patient_nbr  admission_type_id  \\\n",
       "count  1.017660e+05  1.017660e+05      101766.000000   \n",
       "mean   1.652016e+08  5.433040e+07           2.024006   \n",
       "std    1.026403e+08  3.869636e+07           1.445403   \n",
       "min    1.252200e+04  1.350000e+02           1.000000   \n",
       "25%    8.496119e+07  2.341322e+07           1.000000   \n",
       "50%    1.523890e+08  4.550514e+07           1.000000   \n",
       "75%    2.302709e+08  8.754595e+07           3.000000   \n",
       "max    4.438672e+08  1.895026e+08           8.000000   \n",
       "\n",
       "       discharge_disposition_id  admission_source_id  time_in_hospital  \\\n",
       "count             101766.000000        101766.000000     101766.000000   \n",
       "mean                   3.715642             5.754437          4.395987   \n",
       "std                    5.280166             4.064081          2.985108   \n",
       "min                    1.000000             1.000000          1.000000   \n",
       "25%                    1.000000             1.000000          2.000000   \n",
       "50%                    1.000000             7.000000          4.000000   \n",
       "75%                    4.000000             7.000000          6.000000   \n",
       "max                   28.000000            25.000000         14.000000   \n",
       "\n",
       "       num_lab_procedures  num_procedures  num_medications  number_outpatient  \\\n",
       "count       101766.000000   101766.000000    101766.000000      101766.000000   \n",
       "mean            43.095641        1.339730        16.021844           0.369357   \n",
       "std             19.674362        1.705807         8.127566           1.267265   \n",
       "min              1.000000        0.000000         1.000000           0.000000   \n",
       "25%             31.000000        0.000000        10.000000           0.000000   \n",
       "50%             44.000000        1.000000        15.000000           0.000000   \n",
       "75%             57.000000        2.000000        20.000000           0.000000   \n",
       "max            132.000000        6.000000        81.000000          42.000000   \n",
       "\n",
       "       number_emergency  number_inpatient  number_diagnoses  \n",
       "count     101766.000000     101766.000000     101766.000000  \n",
       "mean           0.197836          0.635566          7.422607  \n",
       "std            0.930472          1.262863          1.933600  \n",
       "min            0.000000          0.000000          1.000000  \n",
       "25%            0.000000          0.000000          6.000000  \n",
       "50%            0.000000          0.000000          8.000000  \n",
       "75%            0.000000          1.000000          9.000000  \n",
       "max           76.000000         21.000000         16.000000  "
      ]
     },
     "execution_count": 98,
     "metadata": {},
     "output_type": "execute_result"
    }
   ],
   "source": [
    "data.describe() "
   ]
  },
  {
   "cell_type": "code",
   "execution_count": 99,
   "metadata": {
    "collapsed": true
   },
   "outputs": [],
   "source": [
    "# the count and percentage of missing values \n",
    "\n",
    "# df.apply(pd.value_counts())\n",
    "count = [data[c].value_counts() for c in list(data.select_dtypes(include=['O']).columns)]\n",
    "# find unique values and missings \n",
    "# data.readmitted.unique()"
   ]
  },
  {
   "cell_type": "code",
   "execution_count": 100,
   "metadata": {
    "collapsed": true
   },
   "outputs": [],
   "source": [
    "# replace all the ? with nan to count with isnull function \n",
    "\n",
    "df = data.replace('?', np.nan) # or .replace('-', {0: None})\n",
    "# df.head()"
   ]
  },
  {
   "cell_type": "code",
   "execution_count": 101,
   "metadata": {},
   "outputs": [
    {
     "name": "stdout",
     "output_type": "stream",
     "text": [
      "Your selected dataframe has 50 columns.\n",
      "There are 7 columns that have missing values.\n"
     ]
    },
    {
     "data": {
      "text/html": [
       "<div>\n",
       "<style scoped>\n",
       "    .dataframe tbody tr th:only-of-type {\n",
       "        vertical-align: middle;\n",
       "    }\n",
       "\n",
       "    .dataframe tbody tr th {\n",
       "        vertical-align: top;\n",
       "    }\n",
       "\n",
       "    .dataframe thead th {\n",
       "        text-align: right;\n",
       "    }\n",
       "</style>\n",
       "<table border=\"1\" class=\"dataframe\">\n",
       "  <thead>\n",
       "    <tr style=\"text-align: right;\">\n",
       "      <th></th>\n",
       "      <th>Missing Values</th>\n",
       "      <th>% of Total Values</th>\n",
       "    </tr>\n",
       "  </thead>\n",
       "  <tbody>\n",
       "    <tr>\n",
       "      <th>weight</th>\n",
       "      <td>98569</td>\n",
       "      <td>96.9</td>\n",
       "    </tr>\n",
       "    <tr>\n",
       "      <th>medical_specialty</th>\n",
       "      <td>49949</td>\n",
       "      <td>49.1</td>\n",
       "    </tr>\n",
       "    <tr>\n",
       "      <th>payer_code</th>\n",
       "      <td>40256</td>\n",
       "      <td>39.6</td>\n",
       "    </tr>\n",
       "    <tr>\n",
       "      <th>race</th>\n",
       "      <td>2273</td>\n",
       "      <td>2.2</td>\n",
       "    </tr>\n",
       "    <tr>\n",
       "      <th>diag_3</th>\n",
       "      <td>1423</td>\n",
       "      <td>1.4</td>\n",
       "    </tr>\n",
       "    <tr>\n",
       "      <th>diag_2</th>\n",
       "      <td>358</td>\n",
       "      <td>0.4</td>\n",
       "    </tr>\n",
       "    <tr>\n",
       "      <th>diag_1</th>\n",
       "      <td>21</td>\n",
       "      <td>0.0</td>\n",
       "    </tr>\n",
       "  </tbody>\n",
       "</table>\n",
       "</div>"
      ],
      "text/plain": [
       "                   Missing Values  % of Total Values\n",
       "weight                      98569               96.9\n",
       "medical_specialty           49949               49.1\n",
       "payer_code                  40256               39.6\n",
       "race                         2273                2.2\n",
       "diag_3                       1423                1.4\n",
       "diag_2                        358                0.4\n",
       "diag_1                         21                0.0"
      ]
     },
     "execution_count": 101,
     "metadata": {},
     "output_type": "execute_result"
    }
   ],
   "source": [
    "# a function that output a dataframe to preview the missing values \n",
    "# and the % of missing values in each column\n",
    "\n",
    "def missing_values_table(df):\n",
    "        mis_val = df.isnull().sum()\n",
    "        mis_val_percent = 100 * df.isnull().sum() / len(df)\n",
    "        mis_val_table = pd.concat([mis_val, mis_val_percent], axis=1)\n",
    "        \n",
    "        mis_val_table_ren_columns = mis_val_table.rename(\n",
    "        columns = {0 : 'Missing Values', 1 : '% of Total Values'})\n",
    "        \n",
    "        # keep only the rows that missing value != 0\n",
    "        # sort the rows by % of missing values \n",
    "        mis_val_table_ren_columns = mis_val_table_ren_columns[\n",
    "            mis_val_table_ren_columns.iloc[:,1] != 0].sort_values(\n",
    "        '% of Total Values', ascending=False).round(1)\n",
    "        \n",
    "        print (\"Your selected dataframe has \" + str(df.shape[1]) + \" columns.\\n\"      \n",
    "            \"There are \" + str(mis_val_table_ren_columns.shape[0]) +\n",
    "              \" columns that have missing values.\")\n",
    "        \n",
    "        return mis_val_table_ren_columns\n",
    "\n",
    "missing_values_table(df)"
   ]
  },
  {
   "cell_type": "code",
   "execution_count": 4,
   "metadata": {},
   "outputs": [
    {
     "data": {
      "text/html": [
       "<div>\n",
       "<style scoped>\n",
       "    .dataframe tbody tr th:only-of-type {\n",
       "        vertical-align: middle;\n",
       "    }\n",
       "\n",
       "    .dataframe tbody tr th {\n",
       "        vertical-align: top;\n",
       "    }\n",
       "\n",
       "    .dataframe thead th {\n",
       "        text-align: right;\n",
       "    }\n",
       "</style>\n",
       "<table border=\"1\" class=\"dataframe\">\n",
       "  <thead>\n",
       "    <tr style=\"text-align: right;\">\n",
       "      <th></th>\n",
       "      <th>encounter_id</th>\n",
       "      <th>patient_nbr</th>\n",
       "      <th>race</th>\n",
       "      <th>gender</th>\n",
       "      <th>age</th>\n",
       "      <th>admission_type_id</th>\n",
       "      <th>discharge_disposition_id</th>\n",
       "      <th>admission_source_id</th>\n",
       "      <th>time_in_hospital</th>\n",
       "      <th>num_lab_procedures</th>\n",
       "      <th>num_procedures</th>\n",
       "      <th>num_medications</th>\n",
       "      <th>number_outpatient</th>\n",
       "      <th>number_emergency</th>\n",
       "      <th>number_inpatient</th>\n",
       "      <th>diag_1</th>\n",
       "      <th>diag_2</th>\n",
       "      <th>diag_3</th>\n",
       "      <th>number_diagnoses</th>\n",
       "      <th>max_glu_serum</th>\n",
       "      <th>A1Cresult</th>\n",
       "      <th>metformin</th>\n",
       "      <th>repaglinide</th>\n",
       "      <th>nateglinide</th>\n",
       "      <th>chlorpropamide</th>\n",
       "      <th>glimepiride</th>\n",
       "      <th>acetohexamide</th>\n",
       "      <th>glipizide</th>\n",
       "      <th>glyburide</th>\n",
       "      <th>tolbutamide</th>\n",
       "      <th>pioglitazone</th>\n",
       "      <th>rosiglitazone</th>\n",
       "      <th>acarbose</th>\n",
       "      <th>miglitol</th>\n",
       "      <th>troglitazone</th>\n",
       "      <th>tolazamide</th>\n",
       "      <th>examide</th>\n",
       "      <th>citoglipton</th>\n",
       "      <th>insulin</th>\n",
       "      <th>glyburide-metformin</th>\n",
       "      <th>glipizide-metformin</th>\n",
       "      <th>glimepiride-pioglitazone</th>\n",
       "      <th>metformin-rosiglitazone</th>\n",
       "      <th>metformin-pioglitazone</th>\n",
       "      <th>change</th>\n",
       "      <th>diabetesMed</th>\n",
       "      <th>readmitted</th>\n",
       "    </tr>\n",
       "  </thead>\n",
       "  <tbody>\n",
       "    <tr>\n",
       "      <th>0</th>\n",
       "      <td>2278392</td>\n",
       "      <td>8222157</td>\n",
       "      <td>Caucasian</td>\n",
       "      <td>Female</td>\n",
       "      <td>[0-10)</td>\n",
       "      <td>6</td>\n",
       "      <td>25</td>\n",
       "      <td>1</td>\n",
       "      <td>1</td>\n",
       "      <td>41</td>\n",
       "      <td>0</td>\n",
       "      <td>1</td>\n",
       "      <td>0</td>\n",
       "      <td>0</td>\n",
       "      <td>0</td>\n",
       "      <td>250.83</td>\n",
       "      <td>?</td>\n",
       "      <td>?</td>\n",
       "      <td>1</td>\n",
       "      <td>None</td>\n",
       "      <td>None</td>\n",
       "      <td>No</td>\n",
       "      <td>No</td>\n",
       "      <td>No</td>\n",
       "      <td>No</td>\n",
       "      <td>No</td>\n",
       "      <td>No</td>\n",
       "      <td>No</td>\n",
       "      <td>No</td>\n",
       "      <td>No</td>\n",
       "      <td>No</td>\n",
       "      <td>No</td>\n",
       "      <td>No</td>\n",
       "      <td>No</td>\n",
       "      <td>No</td>\n",
       "      <td>No</td>\n",
       "      <td>No</td>\n",
       "      <td>No</td>\n",
       "      <td>No</td>\n",
       "      <td>No</td>\n",
       "      <td>No</td>\n",
       "      <td>No</td>\n",
       "      <td>No</td>\n",
       "      <td>No</td>\n",
       "      <td>No</td>\n",
       "      <td>No</td>\n",
       "      <td>NO</td>\n",
       "    </tr>\n",
       "    <tr>\n",
       "      <th>1</th>\n",
       "      <td>149190</td>\n",
       "      <td>55629189</td>\n",
       "      <td>Caucasian</td>\n",
       "      <td>Female</td>\n",
       "      <td>[10-20)</td>\n",
       "      <td>1</td>\n",
       "      <td>1</td>\n",
       "      <td>7</td>\n",
       "      <td>3</td>\n",
       "      <td>59</td>\n",
       "      <td>0</td>\n",
       "      <td>18</td>\n",
       "      <td>0</td>\n",
       "      <td>0</td>\n",
       "      <td>0</td>\n",
       "      <td>276</td>\n",
       "      <td>250.01</td>\n",
       "      <td>255</td>\n",
       "      <td>9</td>\n",
       "      <td>None</td>\n",
       "      <td>None</td>\n",
       "      <td>No</td>\n",
       "      <td>No</td>\n",
       "      <td>No</td>\n",
       "      <td>No</td>\n",
       "      <td>No</td>\n",
       "      <td>No</td>\n",
       "      <td>No</td>\n",
       "      <td>No</td>\n",
       "      <td>No</td>\n",
       "      <td>No</td>\n",
       "      <td>No</td>\n",
       "      <td>No</td>\n",
       "      <td>No</td>\n",
       "      <td>No</td>\n",
       "      <td>No</td>\n",
       "      <td>No</td>\n",
       "      <td>No</td>\n",
       "      <td>Up</td>\n",
       "      <td>No</td>\n",
       "      <td>No</td>\n",
       "      <td>No</td>\n",
       "      <td>No</td>\n",
       "      <td>No</td>\n",
       "      <td>Ch</td>\n",
       "      <td>Yes</td>\n",
       "      <td>&gt;30</td>\n",
       "    </tr>\n",
       "    <tr>\n",
       "      <th>2</th>\n",
       "      <td>64410</td>\n",
       "      <td>86047875</td>\n",
       "      <td>AfricanAmerican</td>\n",
       "      <td>Female</td>\n",
       "      <td>[20-30)</td>\n",
       "      <td>1</td>\n",
       "      <td>1</td>\n",
       "      <td>7</td>\n",
       "      <td>2</td>\n",
       "      <td>11</td>\n",
       "      <td>5</td>\n",
       "      <td>13</td>\n",
       "      <td>2</td>\n",
       "      <td>0</td>\n",
       "      <td>1</td>\n",
       "      <td>648</td>\n",
       "      <td>250</td>\n",
       "      <td>V27</td>\n",
       "      <td>6</td>\n",
       "      <td>None</td>\n",
       "      <td>None</td>\n",
       "      <td>No</td>\n",
       "      <td>No</td>\n",
       "      <td>No</td>\n",
       "      <td>No</td>\n",
       "      <td>No</td>\n",
       "      <td>No</td>\n",
       "      <td>Steady</td>\n",
       "      <td>No</td>\n",
       "      <td>No</td>\n",
       "      <td>No</td>\n",
       "      <td>No</td>\n",
       "      <td>No</td>\n",
       "      <td>No</td>\n",
       "      <td>No</td>\n",
       "      <td>No</td>\n",
       "      <td>No</td>\n",
       "      <td>No</td>\n",
       "      <td>No</td>\n",
       "      <td>No</td>\n",
       "      <td>No</td>\n",
       "      <td>No</td>\n",
       "      <td>No</td>\n",
       "      <td>No</td>\n",
       "      <td>No</td>\n",
       "      <td>Yes</td>\n",
       "      <td>NO</td>\n",
       "    </tr>\n",
       "    <tr>\n",
       "      <th>3</th>\n",
       "      <td>500364</td>\n",
       "      <td>82442376</td>\n",
       "      <td>Caucasian</td>\n",
       "      <td>Male</td>\n",
       "      <td>[30-40)</td>\n",
       "      <td>1</td>\n",
       "      <td>1</td>\n",
       "      <td>7</td>\n",
       "      <td>2</td>\n",
       "      <td>44</td>\n",
       "      <td>1</td>\n",
       "      <td>16</td>\n",
       "      <td>0</td>\n",
       "      <td>0</td>\n",
       "      <td>0</td>\n",
       "      <td>8</td>\n",
       "      <td>250.43</td>\n",
       "      <td>403</td>\n",
       "      <td>7</td>\n",
       "      <td>None</td>\n",
       "      <td>None</td>\n",
       "      <td>No</td>\n",
       "      <td>No</td>\n",
       "      <td>No</td>\n",
       "      <td>No</td>\n",
       "      <td>No</td>\n",
       "      <td>No</td>\n",
       "      <td>No</td>\n",
       "      <td>No</td>\n",
       "      <td>No</td>\n",
       "      <td>No</td>\n",
       "      <td>No</td>\n",
       "      <td>No</td>\n",
       "      <td>No</td>\n",
       "      <td>No</td>\n",
       "      <td>No</td>\n",
       "      <td>No</td>\n",
       "      <td>No</td>\n",
       "      <td>Up</td>\n",
       "      <td>No</td>\n",
       "      <td>No</td>\n",
       "      <td>No</td>\n",
       "      <td>No</td>\n",
       "      <td>No</td>\n",
       "      <td>Ch</td>\n",
       "      <td>Yes</td>\n",
       "      <td>NO</td>\n",
       "    </tr>\n",
       "    <tr>\n",
       "      <th>4</th>\n",
       "      <td>16680</td>\n",
       "      <td>42519267</td>\n",
       "      <td>Caucasian</td>\n",
       "      <td>Male</td>\n",
       "      <td>[40-50)</td>\n",
       "      <td>1</td>\n",
       "      <td>1</td>\n",
       "      <td>7</td>\n",
       "      <td>1</td>\n",
       "      <td>51</td>\n",
       "      <td>0</td>\n",
       "      <td>8</td>\n",
       "      <td>0</td>\n",
       "      <td>0</td>\n",
       "      <td>0</td>\n",
       "      <td>197</td>\n",
       "      <td>157</td>\n",
       "      <td>250</td>\n",
       "      <td>5</td>\n",
       "      <td>None</td>\n",
       "      <td>None</td>\n",
       "      <td>No</td>\n",
       "      <td>No</td>\n",
       "      <td>No</td>\n",
       "      <td>No</td>\n",
       "      <td>No</td>\n",
       "      <td>No</td>\n",
       "      <td>Steady</td>\n",
       "      <td>No</td>\n",
       "      <td>No</td>\n",
       "      <td>No</td>\n",
       "      <td>No</td>\n",
       "      <td>No</td>\n",
       "      <td>No</td>\n",
       "      <td>No</td>\n",
       "      <td>No</td>\n",
       "      <td>No</td>\n",
       "      <td>No</td>\n",
       "      <td>Steady</td>\n",
       "      <td>No</td>\n",
       "      <td>No</td>\n",
       "      <td>No</td>\n",
       "      <td>No</td>\n",
       "      <td>No</td>\n",
       "      <td>Ch</td>\n",
       "      <td>Yes</td>\n",
       "      <td>NO</td>\n",
       "    </tr>\n",
       "  </tbody>\n",
       "</table>\n",
       "</div>"
      ],
      "text/plain": [
       "   encounter_id  patient_nbr             race  gender      age  \\\n",
       "0       2278392      8222157        Caucasian  Female   [0-10)   \n",
       "1        149190     55629189        Caucasian  Female  [10-20)   \n",
       "2         64410     86047875  AfricanAmerican  Female  [20-30)   \n",
       "3        500364     82442376        Caucasian    Male  [30-40)   \n",
       "4         16680     42519267        Caucasian    Male  [40-50)   \n",
       "\n",
       "   admission_type_id  discharge_disposition_id  admission_source_id  \\\n",
       "0                  6                        25                    1   \n",
       "1                  1                         1                    7   \n",
       "2                  1                         1                    7   \n",
       "3                  1                         1                    7   \n",
       "4                  1                         1                    7   \n",
       "\n",
       "   time_in_hospital  num_lab_procedures  num_procedures  num_medications  \\\n",
       "0                 1                  41               0                1   \n",
       "1                 3                  59               0               18   \n",
       "2                 2                  11               5               13   \n",
       "3                 2                  44               1               16   \n",
       "4                 1                  51               0                8   \n",
       "\n",
       "   number_outpatient  number_emergency  number_inpatient  diag_1  diag_2  \\\n",
       "0                  0                 0                 0  250.83       ?   \n",
       "1                  0                 0                 0     276  250.01   \n",
       "2                  2                 0                 1     648     250   \n",
       "3                  0                 0                 0       8  250.43   \n",
       "4                  0                 0                 0     197     157   \n",
       "\n",
       "  diag_3  number_diagnoses max_glu_serum A1Cresult metformin repaglinide  \\\n",
       "0      ?                 1          None      None        No          No   \n",
       "1    255                 9          None      None        No          No   \n",
       "2    V27                 6          None      None        No          No   \n",
       "3    403                 7          None      None        No          No   \n",
       "4    250                 5          None      None        No          No   \n",
       "\n",
       "  nateglinide chlorpropamide glimepiride acetohexamide glipizide glyburide  \\\n",
       "0          No             No          No            No        No        No   \n",
       "1          No             No          No            No        No        No   \n",
       "2          No             No          No            No    Steady        No   \n",
       "3          No             No          No            No        No        No   \n",
       "4          No             No          No            No    Steady        No   \n",
       "\n",
       "  tolbutamide pioglitazone rosiglitazone acarbose miglitol troglitazone  \\\n",
       "0          No           No            No       No       No           No   \n",
       "1          No           No            No       No       No           No   \n",
       "2          No           No            No       No       No           No   \n",
       "3          No           No            No       No       No           No   \n",
       "4          No           No            No       No       No           No   \n",
       "\n",
       "  tolazamide examide citoglipton insulin glyburide-metformin  \\\n",
       "0         No      No          No      No                  No   \n",
       "1         No      No          No      Up                  No   \n",
       "2         No      No          No      No                  No   \n",
       "3         No      No          No      Up                  No   \n",
       "4         No      No          No  Steady                  No   \n",
       "\n",
       "  glipizide-metformin glimepiride-pioglitazone metformin-rosiglitazone  \\\n",
       "0                  No                       No                      No   \n",
       "1                  No                       No                      No   \n",
       "2                  No                       No                      No   \n",
       "3                  No                       No                      No   \n",
       "4                  No                       No                      No   \n",
       "\n",
       "  metformin-pioglitazone change diabetesMed readmitted  \n",
       "0                     No     No          No         NO  \n",
       "1                     No     Ch         Yes        >30  \n",
       "2                     No     No         Yes         NO  \n",
       "3                     No     Ch         Yes         NO  \n",
       "4                     No     Ch         Yes         NO  "
      ]
     },
     "execution_count": 4,
     "metadata": {},
     "output_type": "execute_result"
    }
   ],
   "source": [
    "# drop columns with large % of missing values \n",
    "\n",
    "data = data.drop(['weight','payer_code','medical_specialty'], axis = 1) \n",
    "\n",
    "# cols = ['weight', 'payer_code', 'medical_specialty']\n",
    "# data.drop(cols, axis = 1, inplace = True)\n",
    "\n",
    "data.head()"
   ]
  },
  {
   "cell_type": "markdown",
   "metadata": {},
   "source": [
    "### Mode Imputation\n",
    "\n",
    "For categorical data which are not ordinal "
   ]
  },
  {
   "cell_type": "code",
   "execution_count": 5,
   "metadata": {},
   "outputs": [
    {
     "data": {
      "text/plain": [
       "array(['Caucasian', 'AfricanAmerican', 'Other', 'Asian', 'Hispanic'],\n",
       "      dtype=object)"
      ]
     },
     "execution_count": 5,
     "metadata": {},
     "output_type": "execute_result"
    }
   ],
   "source": [
    "# for race: mode imputation \n",
    "\n",
    "# get the number of the largest instance \n",
    "max_race_count = max(data.race.value_counts()) \n",
    "\n",
    "# access 'Caucasian' \n",
    "max_race = data.race.value_counts()[data.race.value_counts() == max_race_count].index[0] \n",
    "\n",
    "# imput missing values with the largest number of race 'Caucasian' \n",
    "data.race.replace('?', max_race, inplace = True)\n",
    "data.race.unique()"
   ]
  },
  {
   "cell_type": "markdown",
   "metadata": {},
   "source": [
    "### Scikit-Learn - Imputer\n"
   ]
  },
  {
   "cell_type": "code",
   "execution_count": 21,
   "metadata": {
    "collapsed": true
   },
   "outputs": [],
   "source": [
    "from numpy import nan\n",
    "X = np.array([[ nan, 0,   3  ],\n",
    "              [ 3,   7,   9  ],\n",
    "              [ 3,   5,   2  ],\n",
    "              [ 4,   nan, 6  ],\n",
    "              [ 8,   8,   1  ]])\n",
    "y = np.array([14, 16, -1,  8, -5])"
   ]
  },
  {
   "cell_type": "code",
   "execution_count": 22,
   "metadata": {},
   "outputs": [
    {
     "name": "stderr",
     "output_type": "stream",
     "text": [
      "/anaconda3/lib/python3.6/site-packages/sklearn/utils/deprecation.py:58: DeprecationWarning: Class Imputer is deprecated; Imputer was deprecated in version 0.20 and will be removed in 0.22. Import impute.SimpleImputer from sklearn instead.\n",
      "  warnings.warn(msg, category=DeprecationWarning)\n"
     ]
    },
    {
     "data": {
      "text/plain": [
       "array([[4.5, 0. , 3. ],\n",
       "       [3. , 7. , 9. ],\n",
       "       [3. , 5. , 2. ],\n",
       "       [4. , 5. , 6. ],\n",
       "       [8. , 8. , 1. ]])"
      ]
     },
     "execution_count": 22,
     "metadata": {},
     "output_type": "execute_result"
    }
   ],
   "source": [
    "from sklearn.preprocessing import Imputer\n",
    "imp = Imputer(strategy='mean')\n",
    "X2 = imp.fit_transform(X)\n",
    "X2"
   ]
  },
  {
   "cell_type": "markdown",
   "metadata": {},
   "source": [
    "## 2. Encoding & Feature Engineering\n",
    "\n",
    "The type of data in this dataset includes: \n",
    "\n",
    "**Continuous**\n",
    "3. time_in_hospital\t\n",
    "4. num_lab_procedures\n",
    "5. num_medications\n",
    "6. number_outpatient\n",
    "7. number_emergency\n",
    "8. number_inpatient\n",
    "12. number_diagnoses\n",
    "\n",
    "Discrete: \n",
    "1. encounter_id\n",
    "2. patient_nbr\n",
    "9. diag_1: with V51?? \n",
    "10. diag_2: missing value, V15, E813\n",
    "11. diag_3: missing value, V, E\n",
    "\n",
    "Categorical: \n",
    "\n",
    "a) Ordinal categorical: \n",
    "3. age: range \n",
    "4. weight: range with missing \n",
    "\n",
    "b) binary: \n",
    "31. change: 'No', 'Ch'\n",
    "32. diabetesMed: 'No', 'Yes'\n",
    "\n",
    "c) with one value\n",
    "23. examide: 'No'\n",
    "24. citoglipton: 'No'\n",
    "\n",
    "d) one-hot encode \n",
    "1. race: 5 with missing \n",
    "2. gender: unknown \n",
    "\n",
    "6. medical_specialty: categorical \n",
    "7. max_glu_serum: 'None', '>300', 'Norm', '>200'\n",
    "8. A1Cresult: 'None', '>7', '>8', 'Norm']\n",
    "\n"
   ]
  },
  {
   "cell_type": "code",
   "execution_count": 104,
   "metadata": {
    "collapsed": true
   },
   "outputs": [],
   "source": [
    "# buiding an dataframe to store clean data \n",
    "\n",
    "df_clean['encounter_id'] = data.encounter_id\n",
    "df_clean['patient_id'] = data.patient_nbr"
   ]
  },
  {
   "cell_type": "markdown",
   "metadata": {},
   "source": [
    "* For continuous values: we keep them as it it"
   ]
  },
  {
   "cell_type": "code",
   "execution_count": 105,
   "metadata": {
    "collapsed": true
   },
   "outputs": [],
   "source": [
    "# number_outpatient: continuous value \n",
    "# number_emergency: continuous value \n",
    "# number_inpatient: continuous value \n",
    "\n",
    "# data.num_lab_procedures.unique()\n",
    "\n",
    "df_clean['number_outpatient'] = data['number_outpatient']\n",
    "df_clean['number_emergency'] = data['number_emergency']\n",
    "df_clean['number_inpatient'] = data['number_inpatient']"
   ]
  },
  {
   "cell_type": "markdown",
   "metadata": {},
   "source": [
    "### 1) Binary Encoding"
   ]
  },
  {
   "cell_type": "code",
   "execution_count": 106,
   "metadata": {
    "collapsed": true
   },
   "outputs": [],
   "source": [
    "# Check class label: code into binary for binary classification problem \n",
    "# 0: 'NO' and '>30'\n",
    "# 1: '<30'\n",
    "\n",
    "data['readmitted'] = [0 if x in ('No', '>30') else 1 for x in data['readmitted']]\n",
    "df_clean['readmitted'] = data['readmitted']\n",
    "\n",
    "# data.readmitted[df.readmitted == '<30'] = 1\n",
    "# data.readmitted[df.readmitted == 'NO'] = 0\n",
    "# data.readmitted[df.readmitted == '>30'] = 0\n",
    "\n",
    "\n",
    "# data = data.replace({'readmitted':'NO'}, 0)\n",
    "# data = data.replace({'readmitted':'>30'}, 0)\n",
    "# data = data.replace({'readmitted':'<30'}, 1)\n",
    "\n",
    "# data.head()\n",
    "# data.shape"
   ]
  },
  {
   "cell_type": "code",
   "execution_count": 107,
   "metadata": {
    "collapsed": true
   },
   "outputs": [],
   "source": [
    "# for gender: have 3 unknowns\n",
    "\n",
    "# gender_code = {'Female':0,'Male':1,'Unknown/Invalid':1} # build a dictionary for encoding \n",
    "# df.gender = [gender_code[x] for x in df.gender] # \n",
    "\n",
    "df_clean['is_male'] = [0 if x == 'female' else 0 for x in data.gender]\n",
    "# df_clean.head()"
   ]
  },
  {
   "cell_type": "code",
   "execution_count": 108,
   "metadata": {
    "collapsed": true
   },
   "outputs": [],
   "source": [
    "# Change of medications: binary encoding \n",
    "\n",
    "change_code = {'No':0,'Ch':1}\n",
    "data.change = [change_code[x] for x in data.change]\n",
    "df_clean['change_in_medications'] = data.change"
   ]
  },
  {
   "cell_type": "code",
   "execution_count": 109,
   "metadata": {
    "collapsed": true
   },
   "outputs": [],
   "source": [
    "# Diabetes medications\n",
    "\n",
    "diabetesMed_code = {'No':0,'Yes':1}\n",
    "data.diabetesMed = [diabetesMed_code[x] for x in data.diabetesMed]\n",
    "df_clean['diabetesMed'] = data.diabetesMed"
   ]
  },
  {
   "cell_type": "markdown",
   "metadata": {},
   "source": [
    "### 2) One-hot Encoding"
   ]
  },
  {
   "cell_type": "code",
   "execution_count": 110,
   "metadata": {
    "collapsed": true
   },
   "outputs": [],
   "source": [
    "# for race: One-hot encoding \n",
    "\n",
    "df_clean['race_white'] = [1 if x == 'Caucasian' else 0 for x in data.race]\n",
    "df_clean['race_aa'] = [1 if x == 'AfricanAmerican' else 0 for x in data.race]\n",
    "df_clean['race_hispanic'] = [1 if x == 'Hispanic' else 0 for x in data.race]\n",
    "df_clean['race_asian'] = [1 if x == 'Asian' else 0 for x in data.race]\n"
   ]
  },
  {
   "cell_type": "code",
   "execution_count": 23,
   "metadata": {
    "collapsed": true
   },
   "outputs": [],
   "source": [
    "# # another method: DictVectorizer\n",
    "# sklearn.preprocessing.OneHotEncoder\n",
    "# sklearn.feature_extraction.FeatureHasher\n",
    "# https://jakevdp.github.io/PythonDataScienceHandbook/05.04-feature-engineering.html\n",
    "# race = data.race\n",
    "\n",
    "# from sklearn.feature_extraction import DictVectorizer\n",
    "# vec = DictVectorizer(sparse=False, dtype=int)\n",
    "# vec_race = vec.fit_transform(race)"
   ]
  },
  {
   "cell_type": "markdown",
   "metadata": {},
   "source": [
    "* For categorical data without order but have large number of categories, it doesn't make since to do integer encoding, since some algorithms will take the integer values as weight. \n",
    "\n",
    "* The solution is to collapse categories into a few and then do OHE for each "
   ]
  },
  {
   "cell_type": "code",
   "execution_count": 111,
   "metadata": {
    "collapsed": true
   },
   "outputs": [],
   "source": [
    "# admission type id: OHE\n",
    "# coded 7 categories into 5 columns based on their meanings \n",
    "# 5: not avilable, 6: NULL, 8: Not Mapped \n",
    "\n",
    "# data.admission_type_id.unique()\n",
    "\n",
    "df_clean['admission_emergency_urgent'] = [1 if x in (1,2) else 0 for x in data.admission_type_id]\n",
    "df_clean['admission_elective'] = [1 if x==3 else 0 for x in data.admission_type_id]\n",
    "df_clean['admission_newborn'] = [1 if x==4 else 0 for x in data.admission_type_id]\n",
    "df_clean['admission_trauma'] = [1 if x==7 else 0 for x in data.admission_type_id]\n",
    "df_clean['admission_unknown'] = [1 if x in (5,6,8) else 0 for x in data.admission_type_id]\n",
    "\n",
    "# df_clean.head()"
   ]
  },
  {
   "cell_type": "code",
   "execution_count": 112,
   "metadata": {
    "collapsed": true
   },
   "outputs": [],
   "source": [
    "# discharge_disposition_id: OHE after collapse\n",
    "\n",
    "# df.discharge_disposition_id.unique()\n",
    "\n",
    "# Collapsed Multiple discharge_disposition_ids into fewer categories:<br>\n",
    "# discharge_disposition_unknown: 18, 25, 26<br>\n",
    "# discharge_disposition_expired: 11, 19, 20, 21<br>\n",
    "# discharge_disposition_home_other_facility: 1, 2, 3, 4, 5, 6, 7, 8, 10, 13, 14, 16, 22, 23, 24, 27, 28, 29, 30<br>\n",
    "# discharge_disposition_current_hospital_patient: 9, 12, 15, 17\n",
    "    \n",
    "df_clean['discharge_diposition_unknown'] = [1 if x in (18, 25, 26) else 0 for x in data.discharge_disposition_id]\n",
    "df_clean['discharge_diposition_expired'] = [1 if x in (11, 19, 20, 21) else 0 for x in data.discharge_disposition_id]\n",
    "df_clean['discharge_diposition_home_other_facility'] = [1 if x in (1, 2, 3, 4, 5, 6, 7, 8, 10, 13, 14, 16, 22, 23, 24, 27, 28, 29, 30) else 0 for x in data.discharge_disposition_id]\n",
    "df_clean['discharge_diposition_current_hospital_patient'] = [1 if x in (9, 12, 15, 17) else 0 for x in data.discharge_disposition_id]\n"
   ]
  },
  {
   "cell_type": "code",
   "execution_count": 113,
   "metadata": {
    "collapsed": true
   },
   "outputs": [],
   "source": [
    "# admission_source_id: OHE after collapse\n",
    "# encoded into 3+1 categories: emergency, referral, transfer\n",
    "\n",
    "# df.admission_source_id.unique()\n",
    "\n",
    "df_clean['admission_source_emergency_room'] = [1 if x==7 else 0 for x in data.admission_source_id]\n",
    "df_clean['admission_source_physician_referral'] = [1 if x==1 else 0 for x in data.admission_source_id]\n",
    "df_clean['admission_source_transfer_hospital_health_care_facility_clinic'] = [1 if x in (4,6,2) else 0 for x in data.admission_source_id]\n"
   ]
  },
  {
   "cell_type": "markdown",
   "metadata": {
    "collapsed": true
   },
   "source": [
    "### 3) Bin-counting Scheme\n"
   ]
  },
  {
   "cell_type": "code",
   "execution_count": 114,
   "metadata": {
    "collapsed": true
   },
   "outputs": [],
   "source": [
    "# for age: Bin-counting scheme\n",
    "# orginally was categorical range but have order \n",
    "# so we code them into 0, 1, 2 \n",
    "\n",
    "youth = ['[0-10)', '[10-20)']\n",
    "adult = ['[20-30)', '[30-40)', '[40-50)']\n",
    "elderly = ['[50-60)','[60-70)','[70-80)','[80-90)','[90-100)']\n",
    "\n",
    "age_codes = []\n",
    "for x in data.age:\n",
    "    if x in youth:\n",
    "        age_codes.append(0)\n",
    "    elif x in adult:\n",
    "        age_codes.append(1)\n",
    "    else:\n",
    "        age_codes.append(2)\n",
    "        \n",
    "data.age = age_codes \n",
    "df_clean['age'] = data.age\n",
    "# df_clean['age'] = data['age']\n",
    "\n",
    "# df_clean.head()\n",
    "# df_clean['age_youth'] = [1 if x==0 else 0 for x in data.age]\n",
    "# df_clean['age_adult'] = [1 if x==1 else 0 for x in data.age]\n",
    "# df_clean['age_elderly'] = [1 if x==2 else 0 for x in data.age]"
   ]
  },
  {
   "cell_type": "markdown",
   "metadata": {},
   "source": [
    "### 4) Integer Encoding"
   ]
  },
  {
   "cell_type": "code",
   "execution_count": 115,
   "metadata": {
    "collapsed": true
   },
   "outputs": [],
   "source": [
    "# max_glu_serum: integer encoding \n",
    "\n",
    "max_glu_serum_code = {'None':0,'Norm':1,'>200':2,'>300':3}\n",
    "data.max_glu_serum = [max_glu_serum_code[x] for x in data.max_glu_serum]\n",
    "df_clean['max_glu_serum'] = data.max_glu_serum\n",
    "\n",
    "# data.max_glu_serum.unique()"
   ]
  },
  {
   "cell_type": "code",
   "execution_count": 116,
   "metadata": {
    "collapsed": true
   },
   "outputs": [],
   "source": [
    "# A1Cresult: integer encoding \n",
    "\n",
    "A1Cresult_code = {'None':0,'Norm':1,'>7':2,'>8':3}\n",
    "data.A1Cresult = [A1Cresult_code[x] for x in data.A1Cresult]\n",
    "df_clean['A1Cresult'] = data.A1Cresult\n"
   ]
  },
  {
   "cell_type": "markdown",
   "metadata": {},
   "source": [
    "Integer encoding for continuous values:\n",
    "\n",
    "We'd like to group some continuous variables into ranges and code into integer to better capture the differences"
   ]
  },
  {
   "cell_type": "code",
   "execution_count": 117,
   "metadata": {
    "collapsed": true
   },
   "outputs": [],
   "source": [
    "# time_in_hospital: code into range and then integer encoding \n",
    "# data.time_in_hospital.unique()\n",
    "\n",
    "for i, row in data.time_in_hospital.iteritems():\n",
    "    if row <= 4:\n",
    "        data.at[i, 'time_in_hospital'] = 0\n",
    "    if (row > 4) & (row <= 9):\n",
    "        data.at[i, 'time_in_hospital'] = 1\n",
    "    if (row >9):\n",
    "        data.at[i, 'time_in_hospital'] = 2\n",
    "\n",
    "df_clean['time_in_hospital'] = data['time_in_hospital']\n",
    "\n"
   ]
  },
  {
   "cell_type": "code",
   "execution_count": 118,
   "metadata": {
    "collapsed": true
   },
   "outputs": [],
   "source": [
    "# num_lab_procedures: code into range and then integer encoding \n",
    "\n",
    "# df.num_lab_procedures.unique()\n",
    "\n",
    "for i, row in data.num_lab_procedures.iteritems():\n",
    "    if row <= 30:\n",
    "        data.at[i, 'num_lab_procedures'] = 0\n",
    "    if (row > 30) & (row <=60):\n",
    "        data.at[i, 'num_lab_procedures'] = 1\n",
    "    if (row > 60):\n",
    "        data.at[i, 'num_lab_procedures'] = 2\n",
    "df_clean['num_lab_procedures'] = data['num_lab_procedures']\n"
   ]
  },
  {
   "cell_type": "code",
   "execution_count": 119,
   "metadata": {
    "collapsed": true
   },
   "outputs": [],
   "source": [
    "# num_procedures: code into range and then integer encoding \n",
    "\n",
    "for i, row in data.num_procedures.iteritems():\n",
    "    if row <= 2:\n",
    "        data.at[i, 'num_procedures'] = 0\n",
    "    if (row > 2) & (row <= 4):\n",
    "        data.at[i, 'num_procedures'] = 1\n",
    "    if (row > 4):\n",
    "        data.at[i, 'num_procedures'] = 2\n",
    "        \n",
    "df_clean['num_procedures'] = data['num_procedures']"
   ]
  },
  {
   "cell_type": "code",
   "execution_count": 120,
   "metadata": {
    "collapsed": true
   },
   "outputs": [],
   "source": [
    "# num_medications: code into range and then integer encoding \n",
    "# df.num_medications.unique()\n",
    "\n",
    "for i, row in data.num_medications.iteritems():\n",
    "    if row <= 20:\n",
    "        data.at[i, 'num_medications'] = 0\n",
    "    if (row > 20) & (row <= 30):\n",
    "        data.at[i, 'num_medications'] = 1\n",
    "    if (row > 30):\n",
    "        data.at[i, 'num_medications'] = 2\n",
    "df_clean['num_medications'] = data['num_medications']"
   ]
  },
  {
   "cell_type": "code",
   "execution_count": 121,
   "metadata": {
    "collapsed": true
   },
   "outputs": [],
   "source": [
    "# number_diagnoses: code into range and then integer encoding \n",
    "# data.number_diagnoses.unique()\n",
    "\n",
    "for i, row in data.number_diagnoses.iteritems():\n",
    "    if row <= 4:\n",
    "        data.at[i, 'number_diagnoses'] = 0\n",
    "    if (row > 4) & (row <= 6):\n",
    "        data.at[i, 'number_diagnoses'] = 1\n",
    "    if (row > 6) & (row <= 8):\n",
    "        data.at[i, 'number_diagnoses'] = 2\n",
    "    if (row > 8):\n",
    "        data.at[i, 'number_diagnoses'] = 3\n",
    "        \n",
    "df_clean['number_diagnoses'] = data['number_diagnoses']\n"
   ]
  },
  {
   "cell_type": "markdown",
   "metadata": {
    "collapsed": true
   },
   "source": [
    "### 5) Feature Engineering "
   ]
  },
  {
   "cell_type": "code",
   "execution_count": 122,
   "metadata": {
    "collapsed": true
   },
   "outputs": [],
   "source": [
    "# 24 features/columns of medications\n",
    "medicine_col_names = data.columns[23:46]\n",
    "medicine_df = data[medicine_col_names]\n",
    "\n",
    "# create two new columns of num_medicine_change and num_total_medicine\n",
    "num_medicine_change_series = medicine_df.isin(['Up', 'Down']).sum(1)\n",
    "num_total_medicine_series = medicine_df.isin(['Up', 'Down', 'Steady']).sum(1)\n",
    "\n",
    "data.insert(data.columns.get_loc('metformin-pioglitazone') + 1, 'num_total_medicine', num_total_medicine_series, allow_duplicates = True)\n",
    "data.insert(data.columns.get_loc('num_total_medicine') + 1, 'num_medicine_change', num_medicine_change_series, allow_duplicates = True)\n"
   ]
  },
  {
   "cell_type": "code",
   "execution_count": null,
   "metadata": {
    "collapsed": true
   },
   "outputs": [],
   "source": [
    "# look into the distribution of each features \n",
    "# a dataframe with % of values under each feature \n"
   ]
  },
  {
   "cell_type": "code",
   "execution_count": 123,
   "metadata": {
    "collapsed": true
   },
   "outputs": [],
   "source": [
    "# Encoding the Medicines Columns \n",
    "# only considering columns that have considerable amount of important data\n",
    "# 14 medicine columns for now\n",
    "\n",
    "metformin_code = {'No':0,'Steady':1,'Up':2,'Down':3}\n",
    "\n",
    "data.metformin = [metformin_code[x] for x in data.metformin]\n",
    "df_clean['metformin'] = data.metformin\n",
    "\n",
    "data.repaglinide = [metformin_code[x] for x in data.repaglinide]\n",
    "df_clean['repaglinide'] = data.repaglinide\n",
    "\n",
    "data.nateglinide = [metformin_code[x] for x in data.nateglinide]\n",
    "df_clean['nateglinide'] = data.nateglinide\n",
    "\n",
    "data.chlorpropamide = [metformin_code[x] for x in data.chlorpropamide]\n",
    "df_clean['chlorpropamide'] = data.chlorpropamide\n",
    "\n",
    "data.glimepiride = [metformin_code[x] for x in data.glimepiride]\n",
    "df_clean['glimepiride'] = data.glimepiride\n",
    "\n",
    "data.glipizide = [metformin_code[x] for x in data.glipizide]\n",
    "df_clean['glipizide'] = data.glipizide\n",
    "\n",
    "data.glyburide = [metformin_code[x] for x in data.glyburide]\n",
    "df_clean['glyburide'] = data.glyburide\n",
    "\n",
    "data.pioglitazone = [metformin_code[x] for x in data.pioglitazone]\n",
    "df_clean['pioglitazone'] = data.pioglitazone\n",
    "\n",
    "data.rosiglitazone = [metformin_code[x] for x in data.rosiglitazone]\n",
    "df_clean['rosiglitazone'] = data.rosiglitazone\n",
    "\n",
    "data.acarbose = [metformin_code[x] for x in data.acarbose]\n",
    "df_clean['acarbose'] = data.acarbose \n",
    "\n",
    "data.miglitol = [metformin_code[x] for x in data.miglitol]\n",
    "df_clean['miglitol'] = data.miglitol\n",
    "\n",
    "data.tolazamide = [metformin_code[x] for x in data.tolazamide]\n",
    "df_clean['tolazamide'] = data.tolazamide\n",
    "\n",
    "data.insulin = [metformin_code[x] for x in data.insulin]\n",
    "df_clean['insulin'] = data.insulin\n",
    "\n",
    "data['glyburide-metformin'] = [metformin_code[x] for x in data['glyburide-metformin']]\n",
    "df_clean['glyburide_metformin'] = data['glyburide-metformin']\n"
   ]
  },
  {
   "cell_type": "code",
   "execution_count": 124,
   "metadata": {
    "collapsed": true
   },
   "outputs": [],
   "source": [
    "# adding two new columns to clean dataframe\n",
    "# num_medicine_change and num_total_medicine\n",
    "\n",
    "df_clean['num_medicine_change'] = data['num_medicine_change']\n",
    "df_clean['num_total_medicine'] = data['num_total_medicine']\n"
   ]
  },
  {
   "cell_type": "markdown",
   "metadata": {
    "collapsed": true
   },
   "source": [
    "**A special feature in this data is the ICD-9 Code**\n",
    "\n",
    "\n",
    "\"\"\"**ICD-9 Code Categories: https://icd.codes/icd9cm**\n",
    "\n",
    "1) 001-139 : Infectious And Parasitic Diseases **= Infection**<br>\n",
    "2) 140-239 : Neoplasms ** = Neoplasms**<br>\n",
    "3) 240-279 : Endocrine, Nutritional And Metabolic Diseases, And Immunity Disorders ** = Endocrine**<br>\n",
    "4) 280-289 : Diseases Of The Blood And Blood-Forming Organs ** = Blood**<br>\n",
    "5) 290-319 : Mental Disorders ** = Mental**<br>\n",
    "6) 320-389 : Diseases Of The Nervous System And Sense Organs ** = Nervous**<br>\n",
    "7) 390-459 : Diseases Of The Circulatory System ** = Circulatory**<br>\n",
    "8) 460-519 : Diseases Of The Respiratory System ** = Respiratory**<br>\n",
    "9) 520-579 : Diseases Of The Digestive System ** = Digestive**<br>\n",
    "10) 580-629 : Diseases Of The Genitourinary System ** = Genitourinary**<br>\n",
    "11) 630-679 : Complications Of Pregnancy, Childbirth, And The Puerperium ** = Pregnancy_Childbirth**<br>\n",
    "12) 680-709 : Diseases Of The Skin And Subcutaneous Tissue ** = Skin**<br>\n",
    "13) 710-739 : Diseases Of The Musculoskeletal System And Connective Tissue ** = Musculoskeletal**<br>\n",
    "14) 740-759 : Congenital Anomalies ** = Congenital**<br>\n",
    "15) 760-779 : Certain Conditions Originating In The Perinatal Period ** = Perinatal_Condition**<br>\n",
    "16) 780-799 : Symptoms, Signs, And Ill-Defined Conditions ** = Symptoms**<br>\n",
    "17) 800-999 : Injury And Poisoning ** = Injury_Poisoning**<br>\n",
    "18) V01-V91 : Supplementary Classification Of Factors Influencing Health Status And Contact With Health Services ** = Additional_Factors**<br>\n",
    "19) E000-E999 : Supplementary Classification Of External Causes Of Injury And Poisoning ** = External_Cause**\n",
    "\"\"\""
   ]
  },
  {
   "cell_type": "code",
   "execution_count": null,
   "metadata": {
    "collapsed": true
   },
   "outputs": [],
   "source": [
    "# diag_1, diag_2, diag_3\n",
    "\n",
    "col = data['diag_1']\n",
    "\n",
    "# set the idx as diag_1+1\n",
    "data.insert(data.columns.get_loc('diag_1') + 1, 'numeric_diag_1', col, allow_duplicates=True)\n",
    "\n",
    "# type(data['numeric_diag_1'])\n",
    "# data.reset_index(level = ['numeric_diag_1'])\n",
    "                          \n",
    "# temporarily inputting -1 in numeric_diag columns for codes with 'V' or 'E'\n",
    "data.loc[data['numeric_diag_1'].str.contains(\"V|E\")==True, ['numeric_diag_1']] = '-1'\n",
    "\n",
    "# replace '?' with NaN in numeric_diag columns\n",
    "data = data.replace({'numeric_diag_1': '?'}, np.nan)\n",
    "\n",
    "#converting numeric_diag columns to numeric datatype\n",
    "data['numeric_diag_1'] = pd.to_numeric(data.numeric_diag_1)\n",
    "\n",
    "# creating duplicate numeric_diag_1 column as category_diag_1\n",
    "col = data['numeric_diag_1']\n",
    "data.insert(data.columns.get_loc('numeric_diag_1') + 1, 'category_diag_1', col, allow_duplicates = True)\n"
   ]
  },
  {
   "cell_type": "code",
   "execution_count": 136,
   "metadata": {
    "collapsed": true
   },
   "outputs": [],
   "source": [
    "# Encoding the categories for value range in ICD-9 Diagnosis Codes\n",
    "\n",
    "def encode_diagnosis_categories(diag_col_name, data):\n",
    "    temp_data = data\n",
    "    temp_data[diag_col_name] = np.where(temp_data[diag_col_name].between(0, 140, inclusive=False), \n",
    "                                    1001, data[diag_col_name]) #'Infection', data[diag_col_name])\n",
    "    temp_data[diag_col_name] = np.where(temp_data[diag_col_name].between(139, 240, inclusive=False), \n",
    "                                    1002, data[diag_col_name]) #'Neoplasms', data[diag_col_name])\n",
    "    temp_data[diag_col_name] = np.where(temp_data[diag_col_name].between(239, 280, inclusive=False), \n",
    "                                    1003, data[diag_col_name]) #'Endocrine', data[diag_col_name])\n",
    "    temp_data[diag_col_name] = np.where(temp_data[diag_col_name].between(279, 290, inclusive=False), \n",
    "                                    1004, data[diag_col_name]) #'Blood', data[diag_col_name])\n",
    "    temp_data[diag_col_name] = np.where(temp_data[diag_col_name].between(289, 320, inclusive=False), \n",
    "                                    1005, data[diag_col_name]) #'Mental', data[diag_col_name])\n",
    "    temp_data[diag_col_name] = np.where(temp_data[diag_col_name].between(319, 390, inclusive=False), \n",
    "                                    1006, data[diag_col_name]) #'Nervous', data[diag_col_name])\n",
    "    temp_data[diag_col_name] = np.where(temp_data[diag_col_name].between(389, 460, inclusive=False), \n",
    "                                    1007, data[diag_col_name]) #'Circulatory', data[diag_col_name])\n",
    "    temp_data[diag_col_name] = np.where(temp_data[diag_col_name].between(459, 520, inclusive=False), \n",
    "                                    1008, data[diag_col_name]) #'Respiratory', data[diag_col_name])\n",
    "    temp_data[diag_col_name] = np.where(temp_data[diag_col_name].between(519, 580, inclusive=False), \n",
    "                                    1009, data[diag_col_name]) #'Digestive', data[diag_col_name])\n",
    "    temp_data[diag_col_name] = np.where(temp_data[diag_col_name].between(579, 630, inclusive=False), \n",
    "                                    1010, data[diag_col_name]) #'Genitourinary', data[diag_col_name])\n",
    "    temp_data[diag_col_name] = np.where(temp_data[diag_col_name].between(629, 680, inclusive=False), \n",
    "                                    1011, data[diag_col_name]) #'Pregnancy_Chidlbirth', data[diag_col_name])\n",
    "    temp_data[diag_col_name] = np.where(temp_data[diag_col_name].between(679, 710, inclusive=False), \n",
    "                                    1012, data[diag_col_name]) #'Skin', data[diag_col_name])\n",
    "    temp_data[diag_col_name] = np.where(temp_data[diag_col_name].between(709, 740, inclusive=False), \n",
    "                                    1013, data[diag_col_name]) #'Musculoskeletal', data[diag_col_name])\n",
    "    temp_data[diag_col_name] = np.where(temp_data[diag_col_name].between(739, 760, inclusive=False), \n",
    "                                    1014, data[diag_col_name]) #'Congenital', data[diag_col_name])\n",
    "    temp_data[diag_col_name] = np.where(temp_data[diag_col_name].between(759, 780, inclusive=False), \n",
    "                                    1015, data[diag_col_name]) #'Perinatal_Condition', data[diag_col_name])\n",
    "    temp_data[diag_col_name] = np.where(temp_data[diag_col_name].between(779, 800, inclusive=False), \n",
    "                                    1016, data[diag_col_name]) #'Symptoms', data[diag_col_name])\n",
    "    temp_data[diag_col_name] = np.where(temp_data[diag_col_name].between(799, 1000, inclusive=False), \n",
    "                                    1017, data[diag_col_name]) #'Injury_Poisoning', data[diag_col_name])\n",
    "    temp_data[diag_col_name] = np.where(temp_data[diag_col_name] == -1, \n",
    "                                    1018, data[diag_col_name]) #'Additional_Factors/External_Cause', data[diag_col_name])\n",
    "    return temp_data\n"
   ]
  },
  {
   "cell_type": "code",
   "execution_count": 137,
   "metadata": {
    "collapsed": true
   },
   "outputs": [],
   "source": [
    "cols = ['category_diag_1']\n",
    "data = encode_diagnosis_categories(cols[0], data)\n",
    "num_vals = [1001, 1002, 1003, 1004, 1005, 1006, 1007, 1008, 1009, 1010, \n",
    "            1011, 1012, 1013, 1014, 1015, 1016, 1017, 1018]\n",
    "string_vals = ['Infection', 'Neoplasms', 'Endocrine', 'Blood', 'Mental', 'Nervous', 'Circulatory', 'Respiratory', 'Digestive', 'Genitourinary',\n",
    "              'Pregnancy_Childbirth', 'Skin', 'Musculoskeletal', 'Congenital', 'Perinatal_Condition', 'Symptoms', 'Injury_Poisoning', 'Additional_Factors/External_Cause']\n",
    "\n",
    "for i in range(len(num_vals)):\n",
    "    # data.replace({col: 1001}, 'Infection')\n",
    "    data = data.replace({cols[0]: num_vals[i]}, string_vals[i]) \n",
    "\n",
    "data = data.replace({cols[0]: np.nan}, \"Unknown\")\n",
    "\n",
    "# Collapsing Multiple diag_1 categories into main categories\n",
    "diag_categories = ['Circulatory', 'Endocrine', 'Respiratory', 'Digestive', \n",
    "                   'Symptoms', 'Injury_Poisoning', 'Genitourinary', 'Musculoskeletal', 'Neoplasms', 'Other']\n",
    "\n",
    "def one_hot_encode(string_value):\n",
    "    return([1 if x==string_value else 0 for x in data.category_diag_1])\n",
    "\n",
    "df_clean['diag1_circulatory'] = one_hot_encode('Circulatory')\n",
    "df_clean['diag1_endocrine'] = one_hot_encode('Endocrine')\n",
    "df_clean['diag1_respiratory'] = one_hot_encode('Respiratory')\n",
    "df_clean['diag1_digestive'] = one_hot_encode('Digestive')\n",
    "df_clean['diag1_symptoms'] = one_hot_encode('Symptoms')\n",
    "df_clean['diag1_injury_poisoning'] = one_hot_encode('Injury_Poisoning')\n",
    "df_clean['diag1_genitourinary'] = one_hot_encode('Genitourinary')\n",
    "df_clean['diag1_musculoskeletal'] = one_hot_encode('Musculoskeletal')\n",
    "df_clean['diag1_neoplasms'] = one_hot_encode('Neoplasms')\n",
    "df_clean['diag1_other'] = [1 if x not in diag_categories else 0 for x in data.category_diag_1]\n"
   ]
  },
  {
   "cell_type": "code",
   "execution_count": null,
   "metadata": {
    "collapsed": true
   },
   "outputs": [],
   "source": [
    "# create an additional column category_diag_1 to keep the string values of diag_1 \n",
    "# which was OHE before to run in the algorithm \n",
    "\n",
    "diag_categories = ['Circulatory', 'Endocrine', 'Respiratory', 'Digestive', \n",
    "                   'Symptoms', 'Injury_Poisoning', 'Genitourinary', 'Musculoskeletal', 'Neoplasms']\n",
    "\n",
    "data.loc[~data.category_diag_1.isin(diag_categories), 'category_diag_1'] = 'Other'\n",
    "\n",
    "# insert this columns into df_clean\n",
    "col = data['category_diag_1']\n",
    "df_clean.insert(df_clean.columns.get_loc('number_inpatient') + 1, 'category_diag_1', col, allow_duplicates=True)\n"
   ]
  },
  {
   "cell_type": "code",
   "execution_count": null,
   "metadata": {
    "collapsed": true
   },
   "outputs": [],
   "source": [
    "print(df_clean.shape[1]-3, \"features after cleaning the input data!\\n\")\n",
    "\n",
    "print(\"Sample preview of Cleaned Data:\\n\")\n",
    "print(df_clean.head(3))"
   ]
  },
  {
   "cell_type": "code",
   "execution_count": null,
   "metadata": {
    "collapsed": true
   },
   "outputs": [],
   "source": [
    "# df_clean.to_csv(\"clean_diabetic_data.csv\", index = False)\n",
    "# print(\"\\nCleaned data frame is exported to the current directory\\n\")\n"
   ]
  },
  {
   "cell_type": "markdown",
   "metadata": {},
   "source": [
    "### 6) Text Features\n"
   ]
  },
  {
   "cell_type": "code",
   "execution_count": 17,
   "metadata": {
    "collapsed": true
   },
   "outputs": [],
   "source": [
    "# use word count as features \n",
    "\n",
    "sample = ['problem of evil',\n",
    "          'evil queen',\n",
    "          'horizon problem']"
   ]
  },
  {
   "cell_type": "code",
   "execution_count": 18,
   "metadata": {},
   "outputs": [
    {
     "data": {
      "text/plain": [
       "<3x5 sparse matrix of type '<class 'numpy.int64'>'\n",
       "\twith 7 stored elements in Compressed Sparse Row format>"
      ]
     },
     "execution_count": 18,
     "metadata": {},
     "output_type": "execute_result"
    }
   ],
   "source": [
    "from sklearn.feature_extraction.text import CountVectorizer\n",
    "\n",
    "vec = CountVectorizer()\n",
    "X = vec.fit_transform(sample)\n",
    "X"
   ]
  },
  {
   "cell_type": "code",
   "execution_count": 19,
   "metadata": {},
   "outputs": [
    {
     "data": {
      "text/html": [
       "<div>\n",
       "<style scoped>\n",
       "    .dataframe tbody tr th:only-of-type {\n",
       "        vertical-align: middle;\n",
       "    }\n",
       "\n",
       "    .dataframe tbody tr th {\n",
       "        vertical-align: top;\n",
       "    }\n",
       "\n",
       "    .dataframe thead th {\n",
       "        text-align: right;\n",
       "    }\n",
       "</style>\n",
       "<table border=\"1\" class=\"dataframe\">\n",
       "  <thead>\n",
       "    <tr style=\"text-align: right;\">\n",
       "      <th></th>\n",
       "      <th>evil</th>\n",
       "      <th>horizon</th>\n",
       "      <th>of</th>\n",
       "      <th>problem</th>\n",
       "      <th>queen</th>\n",
       "    </tr>\n",
       "  </thead>\n",
       "  <tbody>\n",
       "    <tr>\n",
       "      <th>0</th>\n",
       "      <td>1</td>\n",
       "      <td>0</td>\n",
       "      <td>1</td>\n",
       "      <td>1</td>\n",
       "      <td>0</td>\n",
       "    </tr>\n",
       "    <tr>\n",
       "      <th>1</th>\n",
       "      <td>1</td>\n",
       "      <td>0</td>\n",
       "      <td>0</td>\n",
       "      <td>0</td>\n",
       "      <td>1</td>\n",
       "    </tr>\n",
       "    <tr>\n",
       "      <th>2</th>\n",
       "      <td>0</td>\n",
       "      <td>1</td>\n",
       "      <td>0</td>\n",
       "      <td>1</td>\n",
       "      <td>0</td>\n",
       "    </tr>\n",
       "  </tbody>\n",
       "</table>\n",
       "</div>"
      ],
      "text/plain": [
       "   evil  horizon  of  problem  queen\n",
       "0     1        0   1        1      0\n",
       "1     1        0   0        0      1\n",
       "2     0        1   0        1      0"
      ]
     },
     "execution_count": 19,
     "metadata": {},
     "output_type": "execute_result"
    }
   ],
   "source": [
    "import pandas as pd\n",
    "pd.DataFrame(X.toarray(), columns=vec.get_feature_names())"
   ]
  },
  {
   "cell_type": "code",
   "execution_count": 20,
   "metadata": {},
   "outputs": [
    {
     "data": {
      "text/html": [
       "<div>\n",
       "<style scoped>\n",
       "    .dataframe tbody tr th:only-of-type {\n",
       "        vertical-align: middle;\n",
       "    }\n",
       "\n",
       "    .dataframe tbody tr th {\n",
       "        vertical-align: top;\n",
       "    }\n",
       "\n",
       "    .dataframe thead th {\n",
       "        text-align: right;\n",
       "    }\n",
       "</style>\n",
       "<table border=\"1\" class=\"dataframe\">\n",
       "  <thead>\n",
       "    <tr style=\"text-align: right;\">\n",
       "      <th></th>\n",
       "      <th>evil</th>\n",
       "      <th>horizon</th>\n",
       "      <th>of</th>\n",
       "      <th>problem</th>\n",
       "      <th>queen</th>\n",
       "    </tr>\n",
       "  </thead>\n",
       "  <tbody>\n",
       "    <tr>\n",
       "      <th>0</th>\n",
       "      <td>0.517856</td>\n",
       "      <td>0.000000</td>\n",
       "      <td>0.680919</td>\n",
       "      <td>0.517856</td>\n",
       "      <td>0.000000</td>\n",
       "    </tr>\n",
       "    <tr>\n",
       "      <th>1</th>\n",
       "      <td>0.605349</td>\n",
       "      <td>0.000000</td>\n",
       "      <td>0.000000</td>\n",
       "      <td>0.000000</td>\n",
       "      <td>0.795961</td>\n",
       "    </tr>\n",
       "    <tr>\n",
       "      <th>2</th>\n",
       "      <td>0.000000</td>\n",
       "      <td>0.795961</td>\n",
       "      <td>0.000000</td>\n",
       "      <td>0.605349</td>\n",
       "      <td>0.000000</td>\n",
       "    </tr>\n",
       "  </tbody>\n",
       "</table>\n",
       "</div>"
      ],
      "text/plain": [
       "       evil   horizon        of   problem     queen\n",
       "0  0.517856  0.000000  0.680919  0.517856  0.000000\n",
       "1  0.605349  0.000000  0.000000  0.000000  0.795961\n",
       "2  0.000000  0.795961  0.000000  0.605349  0.000000"
      ]
     },
     "execution_count": 20,
     "metadata": {},
     "output_type": "execute_result"
    }
   ],
   "source": [
    "# term frequency-inverse document frequency (TF–IDF)\n",
    "\n",
    "from sklearn.feature_extraction.text import TfidfVectorizer\n",
    "\n",
    "vec = TfidfVectorizer()\n",
    "X = vec.fit_transform(sample)\n",
    "pd.DataFrame(X.toarray(), columns=vec.get_feature_names())"
   ]
  },
  {
   "cell_type": "markdown",
   "metadata": {},
   "source": [
    "## 3. Feature pipeline\n",
    "\n",
    "https://jakevdp.github.io/PythonDataScienceHandbook/05.04-feature-engineering.html"
   ]
  },
  {
   "cell_type": "code",
   "execution_count": null,
   "metadata": {
    "collapsed": true
   },
   "outputs": [],
   "source": [
    "from sklearn.pipeline import make_pipeline\n",
    "\n",
    "model = make_pipeline(Imputer(strategy='mean'),\n",
    "                      PolynomialFeatures(degree=2),\n",
    "                      LinearRegression())"
   ]
  },
  {
   "cell_type": "code",
   "execution_count": null,
   "metadata": {
    "collapsed": true
   },
   "outputs": [],
   "source": [
    "model.fit(X, y)  # X with missing values, from above\n",
    "print(y)\n",
    "print(model.predict(X))"
   ]
  }
 ],
 "metadata": {
  "kernelspec": {
   "display_name": "Python 3",
   "language": "python",
   "name": "python3"
  },
  "language_info": {
   "codemirror_mode": {
    "name": "ipython",
    "version": 3
   },
   "file_extension": ".py",
   "mimetype": "text/x-python",
   "name": "python",
   "nbconvert_exporter": "python",
   "pygments_lexer": "ipython3",
   "version": "3.6.3"
  }
 },
 "nbformat": 4,
 "nbformat_minor": 2
}
