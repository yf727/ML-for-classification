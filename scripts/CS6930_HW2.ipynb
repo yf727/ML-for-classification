{
 "cells": [
  {
   "cell_type": "markdown",
   "metadata": {},
   "source": [
    "## Question 1:\n",
    "\n",
    "Implement the KNN classifier.\n",
    "\n",
    "Your implementation should accept two data files as input (both are posted with the assignment): a spam train.csv file (weka spam train.arff for Weka users) and a spam test.csv file (weka spam test.arff for Weka users). Both files contain exam- ples of e-mail messages, with each example having a class label of either “1” (spam) or “0” (no-spam). Each example has 57 (numeric) features that characterize the message. Your classifier should examine each example in the spam test set and classify it as one of the two classes. The classification will be based on an unweighted vote of its k nearest examples in the spam train set. We will measure all distances using regular Euclidean distance:"
   ]
  },
  {
   "cell_type": "code",
   "execution_count": 2,
   "metadata": {},
   "outputs": [
    {
     "data": {
      "text/html": [
       "<div>\n",
       "<style scoped>\n",
       "    .dataframe tbody tr th:only-of-type {\n",
       "        vertical-align: middle;\n",
       "    }\n",
       "\n",
       "    .dataframe tbody tr th {\n",
       "        vertical-align: top;\n",
       "    }\n",
       "\n",
       "    .dataframe thead th {\n",
       "        text-align: right;\n",
       "    }\n",
       "</style>\n",
       "<table border=\"1\" class=\"dataframe\">\n",
       "  <thead>\n",
       "    <tr style=\"text-align: right;\">\n",
       "      <th></th>\n",
       "      <th>f1</th>\n",
       "      <th>f2</th>\n",
       "      <th>f3</th>\n",
       "      <th>f4</th>\n",
       "      <th>f5</th>\n",
       "      <th>f6</th>\n",
       "      <th>f7</th>\n",
       "      <th>f8</th>\n",
       "      <th>f9</th>\n",
       "      <th>f10</th>\n",
       "      <th>...</th>\n",
       "      <th>f49</th>\n",
       "      <th>f50</th>\n",
       "      <th>f51</th>\n",
       "      <th>f52</th>\n",
       "      <th>f53</th>\n",
       "      <th>f54</th>\n",
       "      <th>f55</th>\n",
       "      <th>f56</th>\n",
       "      <th>f57</th>\n",
       "      <th>class</th>\n",
       "    </tr>\n",
       "  </thead>\n",
       "  <tbody>\n",
       "    <tr>\n",
       "      <th>0</th>\n",
       "      <td>0.00</td>\n",
       "      <td>0.64</td>\n",
       "      <td>0.64</td>\n",
       "      <td>0.0</td>\n",
       "      <td>0.32</td>\n",
       "      <td>0.00</td>\n",
       "      <td>0.00</td>\n",
       "      <td>0.00</td>\n",
       "      <td>0.00</td>\n",
       "      <td>0.00</td>\n",
       "      <td>...</td>\n",
       "      <td>0.00</td>\n",
       "      <td>0.000</td>\n",
       "      <td>0.0</td>\n",
       "      <td>0.778</td>\n",
       "      <td>0.000</td>\n",
       "      <td>0.000</td>\n",
       "      <td>3.756</td>\n",
       "      <td>61</td>\n",
       "      <td>278</td>\n",
       "      <td>1</td>\n",
       "    </tr>\n",
       "    <tr>\n",
       "      <th>1</th>\n",
       "      <td>0.21</td>\n",
       "      <td>0.28</td>\n",
       "      <td>0.50</td>\n",
       "      <td>0.0</td>\n",
       "      <td>0.14</td>\n",
       "      <td>0.28</td>\n",
       "      <td>0.21</td>\n",
       "      <td>0.07</td>\n",
       "      <td>0.00</td>\n",
       "      <td>0.94</td>\n",
       "      <td>...</td>\n",
       "      <td>0.00</td>\n",
       "      <td>0.132</td>\n",
       "      <td>0.0</td>\n",
       "      <td>0.372</td>\n",
       "      <td>0.180</td>\n",
       "      <td>0.048</td>\n",
       "      <td>5.114</td>\n",
       "      <td>101</td>\n",
       "      <td>1028</td>\n",
       "      <td>1</td>\n",
       "    </tr>\n",
       "    <tr>\n",
       "      <th>2</th>\n",
       "      <td>0.06</td>\n",
       "      <td>0.00</td>\n",
       "      <td>0.71</td>\n",
       "      <td>0.0</td>\n",
       "      <td>1.23</td>\n",
       "      <td>0.19</td>\n",
       "      <td>0.19</td>\n",
       "      <td>0.12</td>\n",
       "      <td>0.64</td>\n",
       "      <td>0.25</td>\n",
       "      <td>...</td>\n",
       "      <td>0.01</td>\n",
       "      <td>0.143</td>\n",
       "      <td>0.0</td>\n",
       "      <td>0.276</td>\n",
       "      <td>0.184</td>\n",
       "      <td>0.010</td>\n",
       "      <td>9.821</td>\n",
       "      <td>485</td>\n",
       "      <td>2259</td>\n",
       "      <td>1</td>\n",
       "    </tr>\n",
       "    <tr>\n",
       "      <th>3</th>\n",
       "      <td>0.00</td>\n",
       "      <td>0.00</td>\n",
       "      <td>0.00</td>\n",
       "      <td>0.0</td>\n",
       "      <td>0.63</td>\n",
       "      <td>0.00</td>\n",
       "      <td>0.31</td>\n",
       "      <td>0.63</td>\n",
       "      <td>0.31</td>\n",
       "      <td>0.63</td>\n",
       "      <td>...</td>\n",
       "      <td>0.00</td>\n",
       "      <td>0.137</td>\n",
       "      <td>0.0</td>\n",
       "      <td>0.137</td>\n",
       "      <td>0.000</td>\n",
       "      <td>0.000</td>\n",
       "      <td>3.537</td>\n",
       "      <td>40</td>\n",
       "      <td>191</td>\n",
       "      <td>1</td>\n",
       "    </tr>\n",
       "    <tr>\n",
       "      <th>4</th>\n",
       "      <td>0.00</td>\n",
       "      <td>0.00</td>\n",
       "      <td>0.00</td>\n",
       "      <td>0.0</td>\n",
       "      <td>0.63</td>\n",
       "      <td>0.00</td>\n",
       "      <td>0.31</td>\n",
       "      <td>0.63</td>\n",
       "      <td>0.31</td>\n",
       "      <td>0.63</td>\n",
       "      <td>...</td>\n",
       "      <td>0.00</td>\n",
       "      <td>0.135</td>\n",
       "      <td>0.0</td>\n",
       "      <td>0.135</td>\n",
       "      <td>0.000</td>\n",
       "      <td>0.000</td>\n",
       "      <td>3.537</td>\n",
       "      <td>40</td>\n",
       "      <td>191</td>\n",
       "      <td>1</td>\n",
       "    </tr>\n",
       "  </tbody>\n",
       "</table>\n",
       "<p>5 rows × 58 columns</p>\n",
       "</div>"
      ],
      "text/plain": [
       "     f1    f2    f3   f4    f5    f6    f7    f8    f9   f10  ...     f49  \\\n",
       "0  0.00  0.64  0.64  0.0  0.32  0.00  0.00  0.00  0.00  0.00  ...    0.00   \n",
       "1  0.21  0.28  0.50  0.0  0.14  0.28  0.21  0.07  0.00  0.94  ...    0.00   \n",
       "2  0.06  0.00  0.71  0.0  1.23  0.19  0.19  0.12  0.64  0.25  ...    0.01   \n",
       "3  0.00  0.00  0.00  0.0  0.63  0.00  0.31  0.63  0.31  0.63  ...    0.00   \n",
       "4  0.00  0.00  0.00  0.0  0.63  0.00  0.31  0.63  0.31  0.63  ...    0.00   \n",
       "\n",
       "     f50  f51    f52    f53    f54    f55  f56   f57  class  \n",
       "0  0.000  0.0  0.778  0.000  0.000  3.756   61   278      1  \n",
       "1  0.132  0.0  0.372  0.180  0.048  5.114  101  1028      1  \n",
       "2  0.143  0.0  0.276  0.184  0.010  9.821  485  2259      1  \n",
       "3  0.137  0.0  0.137  0.000  0.000  3.537   40   191      1  \n",
       "4  0.135  0.0  0.135  0.000  0.000  3.537   40   191      1  \n",
       "\n",
       "[5 rows x 58 columns]"
      ]
     },
     "execution_count": 2,
     "metadata": {},
     "output_type": "execute_result"
    }
   ],
   "source": [
    "import pandas as pd\n",
    "\n",
    "spam_train = pd.read_csv('Desktop/code/CISC6930_DM/data/spam_train.csv')\n",
    "spam_train.head()"
   ]
  },
  {
   "cell_type": "code",
   "execution_count": 3,
   "metadata": {},
   "outputs": [
    {
     "data": {
      "text/html": [
       "<div>\n",
       "<style scoped>\n",
       "    .dataframe tbody tr th:only-of-type {\n",
       "        vertical-align: middle;\n",
       "    }\n",
       "\n",
       "    .dataframe tbody tr th {\n",
       "        vertical-align: top;\n",
       "    }\n",
       "\n",
       "    .dataframe thead th {\n",
       "        text-align: right;\n",
       "    }\n",
       "</style>\n",
       "<table border=\"1\" class=\"dataframe\">\n",
       "  <thead>\n",
       "    <tr style=\"text-align: right;\">\n",
       "      <th></th>\n",
       "      <th>ID</th>\n",
       "      <th>f1</th>\n",
       "      <th>f2</th>\n",
       "      <th>f3</th>\n",
       "      <th>f4</th>\n",
       "      <th>f5</th>\n",
       "      <th>f6</th>\n",
       "      <th>f7</th>\n",
       "      <th>f8</th>\n",
       "      <th>f9</th>\n",
       "      <th>...</th>\n",
       "      <th>f49</th>\n",
       "      <th>f50</th>\n",
       "      <th>f51</th>\n",
       "      <th>f52</th>\n",
       "      <th>f53</th>\n",
       "      <th>f54</th>\n",
       "      <th>f55</th>\n",
       "      <th>f56</th>\n",
       "      <th>f57</th>\n",
       "      <th>Label</th>\n",
       "    </tr>\n",
       "  </thead>\n",
       "  <tbody>\n",
       "    <tr>\n",
       "      <th>0</th>\n",
       "      <td>t1</td>\n",
       "      <td>0.00</td>\n",
       "      <td>0.00</td>\n",
       "      <td>0.00</td>\n",
       "      <td>0.00</td>\n",
       "      <td>0.00</td>\n",
       "      <td>0.00</td>\n",
       "      <td>0.00</td>\n",
       "      <td>2.50</td>\n",
       "      <td>0.00</td>\n",
       "      <td>...</td>\n",
       "      <td>0.000</td>\n",
       "      <td>0.182</td>\n",
       "      <td>0.0</td>\n",
       "      <td>0.000</td>\n",
       "      <td>0.182</td>\n",
       "      <td>0.000</td>\n",
       "      <td>3.545</td>\n",
       "      <td>21</td>\n",
       "      <td>78</td>\n",
       "      <td>1</td>\n",
       "    </tr>\n",
       "    <tr>\n",
       "      <th>1</th>\n",
       "      <td>t2</td>\n",
       "      <td>0.31</td>\n",
       "      <td>0.00</td>\n",
       "      <td>0.63</td>\n",
       "      <td>1.91</td>\n",
       "      <td>0.21</td>\n",
       "      <td>0.00</td>\n",
       "      <td>0.00</td>\n",
       "      <td>0.00</td>\n",
       "      <td>0.42</td>\n",
       "      <td>...</td>\n",
       "      <td>0.000</td>\n",
       "      <td>0.169</td>\n",
       "      <td>0.0</td>\n",
       "      <td>0.358</td>\n",
       "      <td>0.188</td>\n",
       "      <td>0.075</td>\n",
       "      <td>2.847</td>\n",
       "      <td>75</td>\n",
       "      <td>447</td>\n",
       "      <td>1</td>\n",
       "    </tr>\n",
       "    <tr>\n",
       "      <th>2</th>\n",
       "      <td>t3</td>\n",
       "      <td>0.00</td>\n",
       "      <td>0.75</td>\n",
       "      <td>0.37</td>\n",
       "      <td>0.00</td>\n",
       "      <td>0.00</td>\n",
       "      <td>0.00</td>\n",
       "      <td>0.75</td>\n",
       "      <td>0.00</td>\n",
       "      <td>0.00</td>\n",
       "      <td>...</td>\n",
       "      <td>0.000</td>\n",
       "      <td>0.000</td>\n",
       "      <td>0.0</td>\n",
       "      <td>0.242</td>\n",
       "      <td>0.000</td>\n",
       "      <td>0.145</td>\n",
       "      <td>9.584</td>\n",
       "      <td>332</td>\n",
       "      <td>508</td>\n",
       "      <td>1</td>\n",
       "    </tr>\n",
       "    <tr>\n",
       "      <th>3</th>\n",
       "      <td>t4</td>\n",
       "      <td>0.00</td>\n",
       "      <td>1.96</td>\n",
       "      <td>0.98</td>\n",
       "      <td>0.00</td>\n",
       "      <td>0.00</td>\n",
       "      <td>0.00</td>\n",
       "      <td>1.96</td>\n",
       "      <td>0.00</td>\n",
       "      <td>0.00</td>\n",
       "      <td>...</td>\n",
       "      <td>0.000</td>\n",
       "      <td>0.168</td>\n",
       "      <td>0.0</td>\n",
       "      <td>1.011</td>\n",
       "      <td>0.000</td>\n",
       "      <td>0.000</td>\n",
       "      <td>2.888</td>\n",
       "      <td>12</td>\n",
       "      <td>52</td>\n",
       "      <td>1</td>\n",
       "    </tr>\n",
       "    <tr>\n",
       "      <th>4</th>\n",
       "      <td>t5</td>\n",
       "      <td>0.51</td>\n",
       "      <td>0.43</td>\n",
       "      <td>0.29</td>\n",
       "      <td>0.00</td>\n",
       "      <td>0.14</td>\n",
       "      <td>0.03</td>\n",
       "      <td>0.00</td>\n",
       "      <td>0.18</td>\n",
       "      <td>0.54</td>\n",
       "      <td>...</td>\n",
       "      <td>0.012</td>\n",
       "      <td>0.080</td>\n",
       "      <td>0.0</td>\n",
       "      <td>0.454</td>\n",
       "      <td>0.523</td>\n",
       "      <td>0.136</td>\n",
       "      <td>6.590</td>\n",
       "      <td>739</td>\n",
       "      <td>2333</td>\n",
       "      <td>1</td>\n",
       "    </tr>\n",
       "  </tbody>\n",
       "</table>\n",
       "<p>5 rows × 59 columns</p>\n",
       "</div>"
      ],
      "text/plain": [
       "   ID    f1    f2    f3    f4    f5    f6    f7    f8    f9  ...      f49  \\\n",
       "0  t1  0.00  0.00  0.00  0.00  0.00  0.00  0.00  2.50  0.00  ...    0.000   \n",
       "1  t2  0.31  0.00  0.63  1.91  0.21  0.00  0.00  0.00  0.42  ...    0.000   \n",
       "2  t3  0.00  0.75  0.37  0.00  0.00  0.00  0.75  0.00  0.00  ...    0.000   \n",
       "3  t4  0.00  1.96  0.98  0.00  0.00  0.00  1.96  0.00  0.00  ...    0.000   \n",
       "4  t5  0.51  0.43  0.29  0.00  0.14  0.03  0.00  0.18  0.54  ...    0.012   \n",
       "\n",
       "     f50  f51    f52    f53    f54    f55  f56   f57  Label  \n",
       "0  0.182  0.0  0.000  0.182  0.000  3.545   21    78      1  \n",
       "1  0.169  0.0  0.358  0.188  0.075  2.847   75   447      1  \n",
       "2  0.000  0.0  0.242  0.000  0.145  9.584  332   508      1  \n",
       "3  0.168  0.0  1.011  0.000  0.000  2.888   12    52      1  \n",
       "4  0.080  0.0  0.454  0.523  0.136  6.590  739  2333      1  \n",
       "\n",
       "[5 rows x 59 columns]"
      ]
     },
     "execution_count": 3,
     "metadata": {},
     "output_type": "execute_result"
    }
   ],
   "source": [
    "spam_test = pd.read_csv('Desktop/code/CISC6930_DM/data/spam_test.csv')\n",
    "spam_test.head()"
   ]
  },
  {
   "cell_type": "code",
   "execution_count": 4,
   "metadata": {
    "collapsed": true
   },
   "outputs": [],
   "source": [
    "import numpy as np \n",
    "\n",
    "# create design matrix X and target vector y\n",
    "X_train = np.array(spam_train.iloc[:, 0:56])\n",
    "y_train = np.array(spam_train['class'])\n",
    "\n",
    "X_test = np.array(spam_test.iloc[:, 1:57])\n",
    "y_test = np.array(spam_test['Label'])"
   ]
  },
  {
   "cell_type": "markdown",
   "metadata": {},
   "source": [
    "### (a) \n",
    "\n",
    "Report test accuracies when k=1,5,11,21,41,61,81,101,201,401 without normalizing the features."
   ]
  },
  {
   "cell_type": "code",
   "execution_count": 5,
   "metadata": {
    "collapsed": true
   },
   "outputs": [],
   "source": [
    "# Training method: memorizing the training data\n",
    "def train(X_train, y_train):\n",
    "    # do nothing\n",
    "    return"
   ]
  },
  {
   "cell_type": "code",
   "execution_count": 6,
   "metadata": {
    "collapsed": true
   },
   "outputs": [],
   "source": [
    "# prediction method: compute the euclidean distance, then select the K nearest ones\n",
    "# then perform majority vote\n",
    "# then assign the labels to instances\n",
    "\n",
    "from collections import Counter\n",
    "from sklearn.metrics import accuracy_score\n",
    "\n",
    "def predict(X_train, y_train, X_test, k):\n",
    "    # create list for distances and targets\n",
    "    distances = []\n",
    "    targets = []\n",
    "    \n",
    "    for i in range(len(X_train)):\n",
    "        # first compute the euclidean distance\n",
    "        distance = np.sqrt(np.sum(np.square(X_test - X_train[i, :])))\n",
    "        # add it to the list of distances\n",
    "        distances.append([distance, i])\n",
    "    \n",
    "    # sort the list\n",
    "    distances = sorted(distances)\n",
    "    \n",
    "    # make a list of k neighbors' targets\n",
    "    for i in range(k):\n",
    "        index = distances[i][1]\n",
    "        targets.append(y_train[index])\n",
    "    \n",
    "    # return most common target: majority vote \n",
    "    return Counter(targets).most_common(1)[0][0]\n"
   ]
  },
  {
   "cell_type": "code",
   "execution_count": 9,
   "metadata": {
    "scrolled": true
   },
   "outputs": [
    {
     "name": "stdout",
     "output_type": "stream",
     "text": [
      "\n",
      "The accuracy of Our classifier is 83%\n"
     ]
    }
   ],
   "source": [
    "def kNearestNeighbor(X_train, y_train, X_test, predictions, k):\n",
    "    # check if k larger than n\n",
    "    if k > len(X_train):\n",
    "        raise ValueError\n",
    "    \n",
    "    # train on the input data\n",
    "    train(X_train, y_train)\n",
    "    \n",
    "    # predict for each testing observation \n",
    "    for i in range(len(X_test)):\n",
    "        predictions.append(predict(X_train, y_train, X_test[i, :], k))\n",
    "\n",
    "# make predictions\n",
    "predictions = []\n",
    "try:\n",
    "        kNearestNeighbor(X_train, y_train, X_test, predictions, 1)\n",
    "        predictions = np.asarray(predictions)\n",
    "        \n",
    "        # evaluating accuracy \n",
    "        accuracy = accuracy_score(y_test, predictions) * 100\n",
    "        print('\\nThe accuracy of Our classifier is %d%%' % accuracy)\n",
    "        \n",
    "except ValueError:\n",
    "        print('Can\\'t have more neighbors than training samples!!')"
   ]
  },
  {
   "cell_type": "code",
   "execution_count": 42,
   "metadata": {},
   "outputs": [
    {
     "name": "stdout",
     "output_type": "stream",
     "text": [
      "\n",
      "The accuracy of Our classifier is 83%\n"
     ]
    }
   ],
   "source": [
    "def kNearestNeighbor(X_train, y_train, X_test, predictions, k):\n",
    "    # check if k larger than n\n",
    "    if k > len(X_train):\n",
    "        raise ValueError\n",
    "    \n",
    "    # train on the input data\n",
    "    train(X_train, y_train)\n",
    "    \n",
    "    # predict for each testing observation \n",
    "    for i in range(len(X_test)):\n",
    "        predictions.append(predict(X_train, y_train, X_test[i, :], k))\n",
    "\n",
    "# make predictions\n",
    "predictions = []\n",
    "try:\n",
    "        kNearestNeighbor(X_train, y_train, X_test, predictions, 5)\n",
    "        predictions = np.asarray(predictions)\n",
    "        \n",
    "        # evaluating accuracy \n",
    "        accuracy = accuracy_score(y_test, predictions) * 100\n",
    "        print('\\nThe accuracy of Our classifier is %d%%' % accuracy)\n",
    "        \n",
    "except ValueError:\n",
    "        print('Can\\'t have more neighbors than training samples!!')"
   ]
  },
  {
   "cell_type": "code",
   "execution_count": 43,
   "metadata": {},
   "outputs": [
    {
     "name": "stdout",
     "output_type": "stream",
     "text": [
      "\n",
      "The accuracy of Our classifier is 83%\n"
     ]
    }
   ],
   "source": [
    "def kNearestNeighbor(X_train, y_train, X_test, predictions, k):\n",
    "    # check if k larger than n\n",
    "    if k > len(X_train):\n",
    "        raise ValueError\n",
    "    \n",
    "    # train on the input data\n",
    "    train(X_train, y_train)\n",
    "    \n",
    "    # predict for each testing observation \n",
    "    for i in range(len(X_test)):\n",
    "        predictions.append(predict(X_train, y_train, X_test[i, :], k))\n",
    "\n",
    "# make predictions\n",
    "predictions = []\n",
    "try:\n",
    "        kNearestNeighbor(X_train, y_train, X_test, predictions, 11)\n",
    "        predictions = np.asarray(predictions)\n",
    "        \n",
    "        # evaluating accuracy \n",
    "        accuracy = accuracy_score(y_test, predictions) * 100\n",
    "        print('\\nThe accuracy of Our classifier is %d%%' % accuracy)\n",
    "        \n",
    "except ValueError:\n",
    "        print('Can\\'t have more neighbors than training samples!!')"
   ]
  },
  {
   "cell_type": "code",
   "execution_count": 44,
   "metadata": {},
   "outputs": [
    {
     "name": "stdout",
     "output_type": "stream",
     "text": [
      "\n",
      "The accuracy of Our classifier is 84%\n"
     ]
    }
   ],
   "source": [
    "def kNearestNeighbor(X_train, y_train, X_test, predictions, k):\n",
    "    # check if k larger than n\n",
    "    if k > len(X_train):\n",
    "        raise ValueError\n",
    "    \n",
    "    # train on the input data\n",
    "    train(X_train, y_train)\n",
    "    \n",
    "    # predict for each testing observation \n",
    "    for i in range(len(X_test)):\n",
    "        predictions.append(predict(X_train, y_train, X_test[i, :], k))\n",
    "\n",
    "# make predictions\n",
    "predictions = []\n",
    "try:\n",
    "        kNearestNeighbor(X_train, y_train, X_test, predictions, 21)\n",
    "        predictions = np.asarray(predictions)\n",
    "        \n",
    "        # evaluating accuracy \n",
    "        accuracy = accuracy_score(y_test, predictions) * 100\n",
    "        print('\\nThe accuracy of Our classifier is %d%%' % accuracy)\n",
    "        \n",
    "except ValueError:\n",
    "        print('Can\\'t have more neighbors than training samples!!')"
   ]
  },
  {
   "cell_type": "code",
   "execution_count": 45,
   "metadata": {},
   "outputs": [
    {
     "name": "stdout",
     "output_type": "stream",
     "text": [
      "\n",
      "The accuracy of Our classifier is 82%\n"
     ]
    }
   ],
   "source": [
    "def kNearestNeighbor(X_train, y_train, X_test, predictions, k):\n",
    "    # check if k larger than n\n",
    "    if k > len(X_train):\n",
    "        raise ValueError\n",
    "    \n",
    "    # train on the input data\n",
    "    train(X_train, y_train)\n",
    "    \n",
    "    # predict for each testing observation \n",
    "    for i in range(len(X_test)):\n",
    "        predictions.append(predict(X_train, y_train, X_test[i, :], k))\n",
    "\n",
    "# make predictions\n",
    "predictions = []\n",
    "try:\n",
    "        kNearestNeighbor(X_train, y_train, X_test, predictions, 41)\n",
    "        predictions = np.asarray(predictions)\n",
    "        \n",
    "        # evaluating accuracy \n",
    "        accuracy = accuracy_score(y_test, predictions) * 100\n",
    "        print('\\nThe accuracy of Our classifier is %d%%' % accuracy)\n",
    "        \n",
    "except ValueError:\n",
    "        print('Can\\'t have more neighbors than training samples!!')"
   ]
  },
  {
   "cell_type": "code",
   "execution_count": 46,
   "metadata": {},
   "outputs": [
    {
     "name": "stdout",
     "output_type": "stream",
     "text": [
      "\n",
      "The accuracy of Our classifier is 82%\n"
     ]
    }
   ],
   "source": [
    "def kNearestNeighbor(X_train, y_train, X_test, predictions, k):\n",
    "    # check if k larger than n\n",
    "    if k > len(X_train):\n",
    "        raise ValueError\n",
    "    \n",
    "    # train on the input data\n",
    "    train(X_train, y_train)\n",
    "    \n",
    "    # predict for each testing observation \n",
    "    for i in range(len(X_test)):\n",
    "        predictions.append(predict(X_train, y_train, X_test[i, :], k))\n",
    "\n",
    "# make predictions\n",
    "predictions = []\n",
    "try:\n",
    "        kNearestNeighbor(X_train, y_train, X_test, predictions, 61)\n",
    "        predictions = np.asarray(predictions)\n",
    "        \n",
    "        # evaluating accuracy \n",
    "        accuracy = accuracy_score(y_test, predictions) * 100\n",
    "        print('\\nThe accuracy of Our classifier is %d%%' % accuracy)\n",
    "        \n",
    "except ValueError:\n",
    "        print('Can\\'t have more neighbors than training samples!!')"
   ]
  },
  {
   "cell_type": "code",
   "execution_count": 47,
   "metadata": {},
   "outputs": [
    {
     "name": "stdout",
     "output_type": "stream",
     "text": [
      "\n",
      "The accuracy of Our classifier is 82%\n"
     ]
    }
   ],
   "source": [
    "def kNearestNeighbor(X_train, y_train, X_test, predictions, k):\n",
    "    # check if k larger than n\n",
    "    if k > len(X_train):\n",
    "        raise ValueError\n",
    "    \n",
    "    # train on the input data\n",
    "    train(X_train, y_train)\n",
    "    \n",
    "    # predict for each testing observation \n",
    "    for i in range(len(X_test)):\n",
    "        predictions.append(predict(X_train, y_train, X_test[i, :], k))\n",
    "\n",
    "# make predictions\n",
    "predictions = []\n",
    "try:\n",
    "        kNearestNeighbor(X_train, y_train, X_test, predictions, 81)\n",
    "        predictions = np.asarray(predictions)\n",
    "        \n",
    "        # evaluating accuracy \n",
    "        accuracy = accuracy_score(y_test, predictions) * 100\n",
    "        print('\\nThe accuracy of Our classifier is %d%%' % accuracy)\n",
    "        \n",
    "except ValueError:\n",
    "        print('Can\\'t have more neighbors than training samples!!')"
   ]
  },
  {
   "cell_type": "code",
   "execution_count": 48,
   "metadata": {},
   "outputs": [
    {
     "name": "stdout",
     "output_type": "stream",
     "text": [
      "\n",
      "The accuracy of Our classifier is 81%\n"
     ]
    }
   ],
   "source": [
    "def kNearestNeighbor(X_train, y_train, X_test, predictions, k):\n",
    "    # check if k larger than n\n",
    "    if k > len(X_train):\n",
    "        raise ValueError\n",
    "    \n",
    "    # train on the input data\n",
    "    train(X_train, y_train)\n",
    "    \n",
    "    # predict for each testing observation \n",
    "    for i in range(len(X_test)):\n",
    "        predictions.append(predict(X_train, y_train, X_test[i, :], k))\n",
    "\n",
    "# make predictions\n",
    "predictions = []\n",
    "try:\n",
    "        kNearestNeighbor(X_train, y_train, X_test, predictions, 101)\n",
    "        predictions = np.asarray(predictions)\n",
    "        \n",
    "        # evaluating accuracy \n",
    "        accuracy = accuracy_score(y_test, predictions) * 100\n",
    "        print('\\nThe accuracy of Our classifier is %d%%' % accuracy)\n",
    "        \n",
    "except ValueError:\n",
    "        print('Can\\'t have more neighbors than training samples!!')"
   ]
  },
  {
   "cell_type": "code",
   "execution_count": 50,
   "metadata": {},
   "outputs": [
    {
     "name": "stdout",
     "output_type": "stream",
     "text": [
      "\n",
      "The accuracy of Our classifier is 79%\n"
     ]
    }
   ],
   "source": [
    "def kNearestNeighbor(X_train, y_train, X_test, predictions, k):\n",
    "    # check if k larger than n\n",
    "    if k > len(X_train):\n",
    "        raise ValueError\n",
    "    \n",
    "    # train on the input data\n",
    "    train(X_train, y_train)\n",
    "    \n",
    "    # predict for each testing observation \n",
    "    for i in range(len(X_test)):\n",
    "        predictions.append(predict(X_train, y_train, X_test[i, :], k))\n",
    "\n",
    "# make predictions\n",
    "predictions = []\n",
    "try:\n",
    "        kNearestNeighbor(X_train, y_train, X_test, predictions, 201)\n",
    "        predictions = np.asarray(predictions)\n",
    "        \n",
    "        # evaluating accuracy \n",
    "        accuracy = accuracy_score(y_test, predictions) * 100\n",
    "        print('\\nThe accuracy of Our classifier is %d%%' % accuracy)\n",
    "        \n",
    "except ValueError:\n",
    "        print('Can\\'t have more neighbors than training samples!!')"
   ]
  },
  {
   "cell_type": "code",
   "execution_count": 51,
   "metadata": {},
   "outputs": [
    {
     "name": "stdout",
     "output_type": "stream",
     "text": [
      "\n",
      "The accuracy of Our classifier is 73%\n"
     ]
    }
   ],
   "source": [
    "def kNearestNeighbor(X_train, y_train, X_test, predictions, k):\n",
    "    # check if k larger than n\n",
    "    if k > len(X_train):\n",
    "        raise ValueError\n",
    "    \n",
    "    # train on the input data\n",
    "    train(X_train, y_train)\n",
    "    \n",
    "    # predict for each testing observation \n",
    "    for i in range(len(X_test)):\n",
    "        predictions.append(predict(X_train, y_train, X_test[i, :], k))\n",
    "\n",
    "# make predictions\n",
    "predictions = []\n",
    "try:\n",
    "        kNearestNeighbor(X_train, y_train, X_test, predictions, 401)\n",
    "        predictions = np.asarray(predictions)\n",
    "        \n",
    "        # evaluating accuracy \n",
    "        accuracy = accuracy_score(y_test, predictions) * 100\n",
    "        print('\\nThe accuracy of Our classifier is %d%%' % accuracy)\n",
    "        \n",
    "except ValueError:\n",
    "        print('Can\\'t have more neighbors than training samples!!')"
   ]
  },
  {
   "cell_type": "code",
   "execution_count": 7,
   "metadata": {},
   "outputs": [
    {
     "data": {
      "text/plain": [
       "[0.8300738809213386,\n",
       " 0.834419817470665,\n",
       " 0.837896566710126,\n",
       " 0.8426770969143851,\n",
       " 0.8265971316818774,\n",
       " 0.8209474141677532,\n",
       " 0.8226857887874837,\n",
       " 0.8105171664493699,\n",
       " 0.7957409821816601,\n",
       " 0.737070838765754]"
      ]
     },
     "execution_count": 7,
     "metadata": {},
     "output_type": "execute_result"
    }
   ],
   "source": [
    "# now we compare the function and results with sklearn\n",
    "\n",
    "from sklearn.neighbors import KNeighborsClassifier\n",
    "from sklearn.metrics import accuracy_score\n",
    "\n",
    "# create a list of K for KNN\n",
    "k_neighbors = [1,5,11,21,41,61,81,101,201,401]\n",
    "\n",
    "# create a empty list to hold accuracy score\n",
    "accuracy_scores = []\n",
    "\n",
    "# fit KNN on train and test data \n",
    "for k in k_neighbors:\n",
    "    knn = KNeighborsClassifier(n_neighbors = k)\n",
    "    knn.fit(X_train, y_train)\n",
    "    pred = knn.predict(X_test)\n",
    "    scores = accuracy_score(y_test, pred)\n",
    "    accuracy_scores.append(scores)\n",
    "\n",
    "accuracy_scores"
   ]
  },
  {
   "cell_type": "markdown",
   "metadata": {},
   "source": [
    "Answer: as we can see, the KNN function produces the same accuracy rate as the sklearn package"
   ]
  },
  {
   "cell_type": "markdown",
   "metadata": {},
   "source": [
    "### (b) \n",
    "\n",
    "Report test accuracies when k=1,5,11,21,41,61,81,101,201,401 with z-score normalization applied to the features."
   ]
  },
  {
   "cell_type": "code",
   "execution_count": 11,
   "metadata": {
    "collapsed": true
   },
   "outputs": [],
   "source": [
    "from sklearn import preprocessing\n",
    "\n",
    "X_trainz = preprocessing.StandardScaler(X_train)\n",
    "X_testz = preprocessing.StandardScaler(X_test)"
   ]
  },
  {
   "cell_type": "code",
   "execution_count": null,
   "metadata": {
    "collapsed": true
   },
   "outputs": [],
   "source": [
    "# create a list of K for KNN\n",
    "k_neighbors = [1,5,11,21,41,61,81,101,201,401]\n",
    "\n",
    "# create a empty list to hold accuracy score\n",
    "accuracy_scores_2 = []\n",
    "\n",
    "# fit KNN on train and test data \n",
    "for k in k_neighbors:\n",
    "    knn = KNeighborsClassifier(n_neighbors = k)\n",
    "    knn.fit(X_trainz, y_train)\n",
    "    pred_z = knn.predict(X_testz)\n",
    "    scores_z = accuracy_score(y_test, pred)\n",
    "    accuracy_scores_2.append(scores)\n",
    "\n",
    "accuracy_scores_2"
   ]
  },
  {
   "cell_type": "markdown",
   "metadata": {},
   "source": [
    "### (c) \n",
    "\n",
    "In the (b) case, generate an output of KNN predicted labels for the first 50 instances (i.e. t1 - t50) when k = 1, 5, 11, 21, 41, 61, 81, 101, 201, 401 (in this order). \n",
    "\n",
    "For example, if t5 is classified as class ‘spam” when k = 1,5,11,21,41,61 and classified as class “no-spam” when k = 81, 101, 201, 401, then your output line for t5 should be:\n",
    "\n",
    "t5 spam, spam, spam, spam, spam, spam, no, no, no, no\n"
   ]
  },
  {
   "cell_type": "code",
   "execution_count": 1,
   "metadata": {},
   "outputs": [
    {
     "ename": "NameError",
     "evalue": "name 'preprocessing' is not defined",
     "output_type": "error",
     "traceback": [
      "\u001b[0;31m---------------------------------------------------------------------------\u001b[0m",
      "\u001b[0;31mNameError\u001b[0m                                 Traceback (most recent call last)",
      "\u001b[0;32m<ipython-input-1-c33efb1123c8>\u001b[0m in \u001b[0;36m<module>\u001b[0;34m()\u001b[0m\n\u001b[0;32m----> 1\u001b[0;31m \u001b[0mX_test_50\u001b[0m \u001b[0;34m=\u001b[0m \u001b[0mpreprocessing\u001b[0m\u001b[0;34m.\u001b[0m\u001b[0mscale\u001b[0m\u001b[0;34m(\u001b[0m\u001b[0mnp\u001b[0m\u001b[0;34m.\u001b[0m\u001b[0marray\u001b[0m\u001b[0;34m(\u001b[0m\u001b[0mspam_test\u001b[0m\u001b[0;34m.\u001b[0m\u001b[0miloc\u001b[0m\u001b[0;34m[\u001b[0m\u001b[0;36m0\u001b[0m\u001b[0;34m:\u001b[0m\u001b[0;36m50\u001b[0m\u001b[0;34m,\u001b[0m \u001b[0;36m1\u001b[0m\u001b[0;34m:\u001b[0m\u001b[0;36m57\u001b[0m\u001b[0;34m]\u001b[0m\u001b[0;34m)\u001b[0m\u001b[0;34m)\u001b[0m\u001b[0;34m\u001b[0m\u001b[0m\n\u001b[0m\u001b[1;32m      2\u001b[0m \u001b[0;34m\u001b[0m\u001b[0m\n\u001b[1;32m      3\u001b[0m \u001b[0;31m# create a list of K for KNN\u001b[0m\u001b[0;34m\u001b[0m\u001b[0;34m\u001b[0m\u001b[0m\n\u001b[1;32m      4\u001b[0m \u001b[0mk_neighbors\u001b[0m \u001b[0;34m=\u001b[0m \u001b[0;34m[\u001b[0m\u001b[0;36m1\u001b[0m\u001b[0;34m,\u001b[0m\u001b[0;36m5\u001b[0m\u001b[0;34m,\u001b[0m\u001b[0;36m11\u001b[0m\u001b[0;34m,\u001b[0m\u001b[0;36m21\u001b[0m\u001b[0;34m,\u001b[0m\u001b[0;36m41\u001b[0m\u001b[0;34m,\u001b[0m\u001b[0;36m61\u001b[0m\u001b[0;34m,\u001b[0m\u001b[0;36m81\u001b[0m\u001b[0;34m,\u001b[0m\u001b[0;36m101\u001b[0m\u001b[0;34m,\u001b[0m\u001b[0;36m201\u001b[0m\u001b[0;34m,\u001b[0m\u001b[0;36m401\u001b[0m\u001b[0;34m]\u001b[0m\u001b[0;34m\u001b[0m\u001b[0m\n\u001b[1;32m      5\u001b[0m \u001b[0;34m\u001b[0m\u001b[0m\n",
      "\u001b[0;31mNameError\u001b[0m: name 'preprocessing' is not defined"
     ]
    }
   ],
   "source": [
    "X_test_50 = preprocessing.scale(np.array(spam_test.iloc[0:50, 1:57]))\n",
    "\n",
    "# create a list of K for KNN\n",
    "k_neighbors = [1,5,11,21,41,61,81,101,201,401]\n",
    "\n",
    "# intialize a dataframe to store the results\n",
    "ind = spam_test.iloc[0:50, 0]\n",
    "output_matrix = pd.DataFrame(index = ind, columns = k_neighbors)\n",
    "\n",
    "# fit KNN on train and test data \n",
    "for k in k_neighbors:\n",
    "    knn_50 = KNeighborsClassifier(n_neighbors = k)\n",
    "    knn_50.fit(X_trainz, y_train)\n",
    "    pred_50 = knn_50.predict(X_test_50)\n",
    "\n",
    "pred_50"
   ]
  },
  {
   "cell_type": "markdown",
   "metadata": {},
   "source": [
    "### (d) What can you conclude by comparing the KNN performance in (a) and (b)?\n",
    "\n",
    "Answer: \n",
    "\n",
    "After standardization, the accuracy rate for the KNN in (a) and (b) becomes the same. \n",
    "\n",
    "From this result, we can conclude that the units/scales of the features in the original data was different and they shouldn't be measured on the same scale. Without standardization, the features with bigger unit tend to have bigger weight which have big impact on the predictions. \n"
   ]
  },
  {
   "cell_type": "markdown",
   "metadata": {},
   "source": [
    "### (e) Describe a method to select the optimal k for the KNN algorithm.\n",
    "\n",
    "Answer: \n",
    "\n",
    "we could use cross-validation to select the optimal k. \n",
    "\n",
    "Here I performed 10-fold cross-validation by seperating the training data into 10 equal sized folds. Each time, we train the data on 9 fold, and estimate the error on the 10th fold that was left. We repeat thi"
   ]
  },
  {
   "cell_type": "code",
   "execution_count": 60,
   "metadata": {
    "collapsed": true
   },
   "outputs": [],
   "source": [
    "## perform 10-fold Cross-Validation to select K\n",
    "\n",
    "from sklearn.model_selection import cross_val_score\n",
    "\n",
    "# create a list of K for KNN\n",
    "neighbors = list(range(1,50))\n",
    "\n",
    "# empty list that will hold cv scores\n",
    "cv_scores = []\n",
    "\n",
    "# perform 10-fold cross validation\n",
    "for k in neighbors:\n",
    "    knn = KNeighborsClassifier(n_neighbors = k)\n",
    "    scores = cross_val_score(knn, X_trainz, y_train, cv = 10, scoring = 'accuracy')\n",
    "    cv_scores.append(scores.mean())"
   ]
  },
  {
   "cell_type": "code",
   "execution_count": 61,
   "metadata": {},
   "outputs": [
    {
     "name": "stdout",
     "output_type": "stream",
     "text": [
      "The optimal number of neighbors is 11\n"
     ]
    }
   ],
   "source": [
    "# find the minimum misclassfication error\n",
    "MSE = [1 - x for x in cv_scores]\n",
    "min(MSE)\n",
    "optimal_k = neighbors[MSE.index(min(MSE))]\n",
    "\n",
    "print (\"The optimal number of neighbors is %d\" % optimal_k)"
   ]
  },
  {
   "cell_type": "code",
   "execution_count": 62,
   "metadata": {},
   "outputs": [
    {
     "data": {
      "image/png": "[encoded data removed]",
      "text/plain": [
       "<matplotlib.figure.Figure at 0x10d325198>"
      ]
     },
     "metadata": {},
     "output_type": "display_data"
    }
   ],
   "source": [
    "import matplotlib.pyplot as plt\n",
    "\n",
    "plt.plot(neighbors, MSE)\n",
    "plt.xlabel('Number of Neighbors K')\n",
    "plt.ylabel('Misclassification Error')\n",
    "plt.show()"
   ]
  },
  {
   "cell_type": "code",
   "execution_count": null,
   "metadata": {
    "collapsed": true
   },
   "outputs": [],
   "source": []
  }
 ],
 "metadata": {
  "kernelspec": {
   "display_name": "Python 3",
   "language": "python",
   "name": "python3"
  },
  "language_info": {
   "codemirror_mode": {
    "name": "ipython",
    "version": 3
   },
   "file_extension": ".py",
   "mimetype": "text/x-python",
   "name": "python",
   "nbconvert_exporter": "python",
   "pygments_lexer": "ipython3",
   "version": "3.6.3"
  }
 },
 "nbformat": 4,
 "nbformat_minor": 2
}
