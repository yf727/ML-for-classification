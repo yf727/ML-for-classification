{
 "cells": [
  {
   "cell_type": "markdown",
   "metadata": {},
   "source": [
    "# Simple Classifier\n",
    "\n",
    "We will consider the world-famous problem of giraffe classification, discussed in the first lecture. We will make a very simple classifier and partition the data into three sets."
   ]
  },
  {
   "cell_type": "markdown",
   "metadata": {},
   "source": [
    "## Question 1: threshClassify\n",
    "\n",
    "Write a function called threshClassify that takes in a list of numbers (the heights of our animals), and a threshold value xthresh. The function will return a list of 0s and 1s – a 0 for each non-giraffe input and a 1 for each giraffe input. Specifically, the function call must look like this:\n",
    "\n",
    "                      threshClassify(heightList, xThresh)\n",
    "\n",
    "If heightList=[2, 5, 8, 1, 7] and xThresh=5,the function will return the list [0, 0, 1, 0, 1] (any entry GREATER than the threshold is assigned a value of 1).\n"
   ]
  },
  {
   "cell_type": "code",
   "execution_count": 4,
   "metadata": {
    "collapsed": true
   },
   "outputs": [],
   "source": [
    "def threshClassify(heightList, xThresh):\n",
    "    \"\"\"\n",
    "    input: list \n",
    "    output: [0, 0, 1, 0, 1]\n",
    "    \"\"\"\n",
    "    result = []\n",
    "    for i in heightList:\n",
    "        if i > xThresh: \n",
    "            result.append(1)\n",
    "        else: \n",
    "            result.append(0)\n",
    "    return result"
   ]
  },
  {
   "cell_type": "code",
   "execution_count": 5,
   "metadata": {},
   "outputs": [
    {
     "name": "stdout",
     "output_type": "stream",
     "text": [
      "[0, 0, 1, 0, 1]\n"
     ]
    }
   ],
   "source": [
    "heightList = [2, 5, 8, 1, 7]\n",
    "xThresh = 5\n",
    "result = threshClassify(heightList, xThresh)\n",
    "print(result)"
   ]
  },
  {
   "cell_type": "markdown",
   "metadata": {},
   "source": [
    "## Question 2: findAccuracy\n",
    "\n",
    "Write a function called findAccuracy that takes in a list of approximated class labels output by the classifier (threshClassify) and a list of true labels provided in the training set, and calculates the accuracy of the classifier as a number between 0 and 1. Specifically, the function call must look like this:\n",
    "\n",
    "                        findAccuracy(classifierOutput, trueLabels)\n",
    "\n",
    "If classifierOutput = [1,1,1,0,1,0,1,1] and trueLabels=[1,1,0,0,0,0,1,1], the function will return the number 0.75 (2 out of 8 values were incorrect)."
   ]
  },
  {
   "cell_type": "code",
   "execution_count": 6,
   "metadata": {
    "collapsed": true
   },
   "outputs": [],
   "source": [
    "def findAccuracy(classifierOutput, trueLabels): \n",
    "\n",
    "    match = []\n",
    "    # 1) compare output with true label\n",
    "    # and append 1 to the list if match \n",
    "    for i, l in zip(classifierOutput, trueLabels): \n",
    "        if i == l:\n",
    "            match.append(1)\n",
    "        else:\n",
    "            next \n",
    "\n",
    "    # 2) count accuracy as the ratio of mismatch \n",
    "    accuracy = len(match)/len(classifierOutput)\n",
    "    return accuracy"
   ]
  },
  {
   "cell_type": "code",
   "execution_count": 7,
   "metadata": {},
   "outputs": [
    {
     "name": "stdout",
     "output_type": "stream",
     "text": [
      "0.75\n"
     ]
    }
   ],
   "source": [
    "classifierOutput = [1, 1, 1, 0, 1, 0, 1, 1]\n",
    "trueLabels = [1, 1, 0, 0, 0, 0, 1, 1]\n",
    "result = findAccuracy(classifierOutput, trueLabels)\n",
    "print(result)"
   ]
  },
  {
   "cell_type": "code",
   "execution_count": 2,
   "metadata": {},
   "outputs": [
    {
     "data": {
      "text/plain": [
       "0.75"
      ]
     },
     "execution_count": 2,
     "metadata": {},
     "output_type": "execute_result"
    }
   ],
   "source": [
    "def findAccuracy(classifierOutput, trueLabels): \n",
    "    num = len(classifierOutput)\n",
    "    correct = 0 \n",
    "    for i in range(0,num):\n",
    "        if classifierOutput[i] == trueLabels[i]:\n",
    "            correct += 1\n",
    "    return correct/num\n",
    "\n",
    "\n",
    "classifierOutput = [1, 1, 1, 0, 1, 0, 1, 1]\n",
    "trueLabels = [1, 1, 0, 0, 0, 0, 1, 1]\n",
    "findAccuracy(classifierOutput, trueLabels)\n"
   ]
  },
  {
   "cell_type": "markdown",
   "metadata": {},
   "source": [
    "## Question 3: getTraining\n",
    "\n",
    "Write a function called getTraining that takes in a two-dimensional list with 2 rows and C columns, and returns a new two-dimensional list with the first C/3 columns . In other words, we extract the training data as the first third of the entries in the data list. Specifically, the function call must look like this:\n",
    "\n",
    "                              getTraining(fullData)\n",
    "                              \n",
    "If fullData=[[4,5,1,2,8,3], [1,1,0,0,1,0]], the function will return [[4,5],[1,1]]"
   ]
  },
  {
   "cell_type": "code",
   "execution_count": 55,
   "metadata": {},
   "outputs": [
    {
     "data": {
      "text/plain": [
       "[[4, 5], [1, 1]]"
      ]
     },
     "execution_count": 55,
     "metadata": {},
     "output_type": "execute_result"
    }
   ],
   "source": [
    "# hard coded \n",
    "def getTraining(data):\n",
    "    \"\"\"\n",
    "    imput: 2*3 list \n",
    "    output: [[4, 5], [1, 1]]\n",
    "    \"\"\"\n",
    "    result = []\n",
    "    for i in data:\n",
    "        result.append(i[0:2])\n",
    "    return result\n",
    "\n",
    "fullData = [[4, 5, 1, 2, 8, 3], [1, 1, 0, 0, 1, 0]]\n",
    "result = getTraining(fullData)\n",
    "result"
   ]
  },
  {
   "cell_type": "code",
   "execution_count": 56,
   "metadata": {},
   "outputs": [
    {
     "data": {
      "text/plain": [
       "[[4, 5], [1, 1]]"
      ]
     },
     "execution_count": 56,
     "metadata": {},
     "output_type": "execute_result"
    }
   ],
   "source": [
    "def getTraining(data):\n",
    "    xlist = data[0]\n",
    "    num = len(xlist)\n",
    "    xTrain = []\n",
    "    yTrain = []\n",
    "    for i in range(int(num/3)):\n",
    "        xTrain.append(data[0][i])\n",
    "        yTrain.append(data[1][i])\n",
    "    result = [xTrain, yTrain]\n",
    "    return result\n",
    "\n",
    "fullData = [[4, 5, 1, 2, 8, 3], [1, 1, 0, 0, 1, 0]]\n",
    "result = getTraining(fullData)\n",
    "result"
   ]
  },
  {
   "cell_type": "code",
   "execution_count": 49,
   "metadata": {},
   "outputs": [
    {
     "name": "stdout",
     "output_type": "stream",
     "text": [
      "0\n",
      "1\n"
     ]
    },
    {
     "data": {
      "text/plain": [
       "[[4, 5], [1, 1]]"
      ]
     },
     "execution_count": 49,
     "metadata": {},
     "output_type": "execute_result"
    }
   ],
   "source": [
    "fullData = [[4, 5, 1, 2, 8, 3], [1, 1, 0, 0, 1, 0]]\n",
    "xTrain = []\n",
    "yTrain = []\n",
    "for i in range(2):\n",
    "    print(i)\n",
    "    xTrain.append(fullData[0][i])\n",
    "    yTrain.append(fullData[1][i])\n",
    "result = [xTrain, yTrain]\n",
    "result"
   ]
  },
  {
   "cell_type": "code",
   "execution_count": null,
   "metadata": {
    "collapsed": true
   },
   "outputs": [],
   "source": []
  },
  {
   "cell_type": "code",
   "execution_count": null,
   "metadata": {
    "collapsed": true
   },
   "outputs": [],
   "source": []
  },
  {
   "cell_type": "code",
   "execution_count": null,
   "metadata": {
    "collapsed": true
   },
   "outputs": [],
   "source": []
  }
 ],
 "metadata": {
  "kernelspec": {
   "display_name": "Python 3",
   "language": "python",
   "name": "python3"
  },
  "language_info": {
   "codemirror_mode": {
    "name": "ipython",
    "version": 3
   },
   "file_extension": ".py",
   "mimetype": "text/x-python",
   "name": "python",
   "nbconvert_exporter": "python",
   "pygments_lexer": "ipython3",
   "version": "3.6.3"
  }
 },
 "nbformat": 4,
 "nbformat_minor": 2
}
